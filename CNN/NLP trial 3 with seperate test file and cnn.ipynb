{
 "cells": [
  {
   "cell_type": "code",
   "execution_count": 2,
   "metadata": {},
   "outputs": [],
   "source": [
    "import tensorflow as tf\n",
    "from tensorflow import keras\n",
    "import pandas as pd\n",
    "import numpy as np\n",
    "from tensorflow.keras.preprocessing.text import Tokenizer\n",
    "from tensorflow.keras.preprocessing.sequence import pad_sequences"
   ]
  },
  {
   "cell_type": "code",
   "execution_count": 3,
   "metadata": {},
   "outputs": [],
   "source": [
    "vocab_size = 7000\n",
    "embedding_dim = 256\n",
    "max_length = 20\n",
    "trunc_type='post'\n",
    "padding_type='post'\n",
    "oov_tok = \"<OOV>\""
   ]
  },
  {
   "cell_type": "code",
   "execution_count": 4,
   "metadata": {},
   "outputs": [],
   "source": [
    "stopwords = [ \"a\", \"about\", \"above\", \"after\", \"again\", \"against\", \"all\", \"am\", \"an\", \"and\", \"any\", \"are\", \"as\", \"at\", \"be\", \"because\", \"been\", \"before\", \"being\", \"below\", \"between\", \"both\", \"but\", \"by\", \"could\", \"did\", \"do\", \"does\", \"doing\", \"down\", \"during\", \"each\", \"few\", \"for\", \"from\", \"further\", \"had\", \"has\", \"have\", \"having\", \"he\", \"he'd\", \"he'll\", \"he's\", \"her\", \"here\", \"here's\", \"hers\", \"herself\", \"him\", \"himself\", \"his\", \"i\", \"i'd\", \"i'll\", \"i'm\", \"i've\", \"if\", \"in\", \"into\", \"is\", \"it\", \"it's\", \"its\", \"itself\", \"let's\", \"me\", \"more\", \"most\", \"my\", \"myself\", \"nor\", \"of\", \"on\", \"once\", \"only\", \"or\", \"other\", \"ought\", \"our\", \"ours\", \"ourselves\", \"out\", \"over\", \"own\", \"same\", \"she\", \"she'd\", \"she'll\", \"she's\", \"should\", \"so\", \"some\", \"such\", \"than\", \"that\", \"that's\", \"the\", \"their\", \"theirs\", \"them\", \"themselves\", \"then\", \"there\", \"there's\", \"these\", \"they\", \"they'd\", \"they'll\", \"they're\", \"they've\", \"this\", \"those\", \"through\", \"to\", \"too\", \"under\", \"until\", \"up\", \"very\", \"was\", \"we\", \"we'd\", \"we'll\", \"we're\", \"we've\", \"were\", \"while\", \"with\", \"you\", \"you'd\", \"you'll\", \"you're\", \"you've\", \"your\", \"yours\", \"yourself\", \"yourselves\"]\n",
    "punctuations = '''!()-[]{};:'\"`\\,<>./?@#$%^&*_~\\n'''"
   ]
  },
  {
   "cell_type": "code",
   "execution_count": 5,
   "metadata": {},
   "outputs": [
    {
     "name": "stdout",
     "output_type": "stream",
     "text": [
      "DESC\n",
      "manner\n",
      "['How did serfdom develop in and then leave Russia ?\\n', 'What films featured the character Popeye Doyle ?\\n', \"How can I find a list of celebrities ' real names ?\\n\", 'What fowl grabs the spotlight after the Chinese Year of the Monkey ?\\n', 'What is the full form of .com ?\\n', 'What contemptible scoundrel stole the cork from my lunch ?\\n', \"What team did baseball 's St. Louis Browns become ?\\n\", 'What is the oldest profession ?\\n', 'What are liver enzymes ?\\n', 'Name the scar-faced bounty hunter of The Old West .\\n']\n"
     ]
    }
   ],
   "source": [
    "category = []\n",
    "subcategory = []\n",
    "questions = []\n",
    "\n",
    "with open('train_5500.label', 'r') as f:\n",
    "    for line in f:\n",
    "        split_index1 = line.index(\":\")\n",
    "        split_index2 = line.index(\" \")\n",
    "        category.append(line[:split_index1])\n",
    "        subcategory.append(line[split_index1+1:split_index2])\n",
    "        questions.append(line[(split_index2+1):])\n",
    "        \n",
    "print(category[0])\n",
    "print(subcategory[0])\n",
    "print(questions[0:10])"
   ]
  },
  {
   "cell_type": "code",
   "execution_count": 6,
   "metadata": {},
   "outputs": [
    {
     "name": "stdout",
     "output_type": "stream",
     "text": [
      "5452\n",
      "5452\n",
      "['how serfdom develop leave russia ', 'what films featured character popeye doyle ', 'how can find list celebrities real names ', 'what fowl grabs spotlight chinese year monkey ', 'what full form com ', 'what contemptible scoundrel stole cork lunch ', 'what team baseball s st louis browns become ', 'what oldest profession ', 'what liver enzymes ', 'name scarfaced bounty hunter old west ']\n"
     ]
    }
   ],
   "source": [
    "for i in range(0,len(questions)):\n",
    "    question = questions[i].lower()\n",
    "    for word in stopwords:\n",
    "        token = \" \" + word + \" \"\n",
    "        question = question.replace(token, \" \")\n",
    "    no_punct = ''\n",
    "    for char in question:\n",
    "        if char not in punctuations:\n",
    "            no_punct = no_punct + char\n",
    "    no_punct = no_punct.replace(\"  \", \" \")\n",
    "    questions[i] = no_punct\n",
    "\n",
    "print(len(category))\n",
    "print(len(questions))\n",
    "print(questions[0:10])"
   ]
  },
  {
   "cell_type": "code",
   "execution_count": 7,
   "metadata": {},
   "outputs": [
    {
     "name": "stdout",
     "output_type": "stream",
     "text": [
      "NUM\n",
      "dist\n",
      "['How far is it from Denver to Aspen ?\\n', 'What county is Modesto , California in ?\\n', 'Who was Galileo ?\\n', 'What is an atom ?\\n', 'When did Hawaii become a state ?\\n', 'How tall is the Sears Building ?\\n', 'George Bush purchased a small interest in which baseball team ?\\n', \"What is Australia 's national flower ?\\n\", 'Why does the moon turn orange ?\\n', 'What is autism ?\\n']\n"
     ]
    }
   ],
   "source": [
    "test_category = []\n",
    "test_subcategory = []\n",
    "test_questions = []\n",
    "\n",
    "with open('TREC_10.label', 'r') as f:\n",
    "    for line in f:\n",
    "        split_index1 = line.index(\":\")\n",
    "        split_index2 = line.index(\" \")\n",
    "        test_category.append(line[:split_index1])\n",
    "        test_subcategory.append(line[split_index1+1:split_index2])\n",
    "        test_questions.append(line[(split_index2+1):])\n",
    "        \n",
    "print(test_category[0])\n",
    "print(test_subcategory[0])\n",
    "print(test_questions[0:10])"
   ]
  },
  {
   "cell_type": "code",
   "execution_count": 8,
   "metadata": {},
   "outputs": [
    {
     "name": "stdout",
     "output_type": "stream",
     "text": [
      "500\n",
      "500\n",
      "['how far denver aspen ', 'what county modesto california ', 'who galileo ', 'what atom ', 'when hawaii become state ', 'how tall sears building ', 'george bush purchased small interest which baseball team ', 'what australia s national flower ', 'why moon turn orange ', 'what autism ']\n"
     ]
    }
   ],
   "source": [
    "for i in range(0,len(test_questions)):\n",
    "    test_question = test_questions[i].lower()\n",
    "    for word in stopwords:\n",
    "        token = \" \" + word + \" \"\n",
    "        test_question = test_question.replace(token, \" \")\n",
    "    no_punct = ''\n",
    "    for char in test_question:\n",
    "        if char not in punctuations:\n",
    "            no_punct = no_punct + char\n",
    "    no_punct = no_punct.replace(\"  \", \" \")\n",
    "    test_questions[i] = no_punct\n",
    "\n",
    "print(len(test_category))\n",
    "print(len(test_questions))\n",
    "print(test_questions[0:10])"
   ]
  },
  {
   "cell_type": "code",
   "execution_count": null,
   "metadata": {},
   "outputs": [],
   "source": []
  },
  {
   "cell_type": "code",
   "execution_count": 9,
   "metadata": {},
   "outputs": [
    {
     "name": "stdout",
     "output_type": "stream",
     "text": [
      "5452\n",
      "5452\n",
      "500\n",
      "500\n"
     ]
    }
   ],
   "source": [
    "train_questions = questions\n",
    "train_category = category\n",
    "train_subcategory = subcategory\n",
    "\n",
    "validation_questions = test_questions\n",
    "validation_category = test_category\n",
    "validation_subcategory = test_subcategory\n",
    "\n",
    "print(len(train_questions))\n",
    "print(len(train_category))\n",
    "print(len(validation_questions))\n",
    "print(len(validation_category))"
   ]
  },
  {
   "cell_type": "code",
   "execution_count": 10,
   "metadata": {},
   "outputs": [
    {
     "name": "stdout",
     "output_type": "stream",
     "text": [
      "8520\n",
      "5\n",
      "20\n",
      "6\n",
      "20\n"
     ]
    }
   ],
   "source": [
    "tokenizer = Tokenizer(num_words = vocab_size, oov_token = oov_tok)\n",
    "tokenizer.fit_on_texts(train_questions)\n",
    "word_index = tokenizer.word_index\n",
    "print(len(word_index))\n",
    "\n",
    "train_sequences = tokenizer.texts_to_sequences(train_questions)\n",
    "train_padded = pad_sequences(train_sequences, padding=padding_type, maxlen=max_length, truncating=trunc_type)\n",
    "\n",
    "print(len(train_sequences[0]))\n",
    "print(len(train_padded[0]))\n",
    "\n",
    "print(len(train_sequences[1]))\n",
    "print(len(train_padded[1]))"
   ]
  },
  {
   "cell_type": "code",
   "execution_count": 11,
   "metadata": {},
   "outputs": [
    {
     "name": "stdout",
     "output_type": "stream",
     "text": [
      "500\n",
      "(500, 20)\n"
     ]
    }
   ],
   "source": [
    "validation_sequences = tokenizer.texts_to_sequences(validation_questions)\n",
    "validation_padded = pad_sequences(validation_sequences, padding=padding_type, maxlen=max_length, truncating=trunc_type)\n",
    "\n",
    "print(len(validation_sequences))\n",
    "print(validation_padded.shape)"
   ]
  },
  {
   "cell_type": "code",
   "execution_count": 12,
   "metadata": {},
   "outputs": [],
   "source": [
    "category_tokenizer = Tokenizer()\n",
    "category_tokenizer.fit_on_texts(category)\n",
    "\n",
    "training_category_seq = pad_sequences(np.array(category_tokenizer.texts_to_sequences(train_category)), maxlen=1)\n",
    "validation_category_seq = pad_sequences(np.array(category_tokenizer.texts_to_sequences(validation_category)), maxlen=1)"
   ]
  },
  {
   "cell_type": "code",
   "execution_count": 13,
   "metadata": {},
   "outputs": [
    {
     "name": "stdout",
     "output_type": "stream",
     "text": [
      "Model: \"sequential\"\n",
      "_________________________________________________________________\n",
      "Layer (type)                 Output Shape              Param #   \n",
      "=================================================================\n",
      "embedding (Embedding)        (None, 20, 256)           1792000   \n",
      "_________________________________________________________________\n",
      "global_average_pooling1d (Gl (None, 256)               0         \n",
      "_________________________________________________________________\n",
      "dropout (Dropout)            (None, 256)               0         \n",
      "_________________________________________________________________\n",
      "dense (Dense)                (None, 32)                8224      \n",
      "_________________________________________________________________\n",
      "dense_1 (Dense)              (None, 7)                 231       \n",
      "=================================================================\n",
      "Total params: 1,800,455\n",
      "Trainable params: 1,800,455\n",
      "Non-trainable params: 0\n",
      "_________________________________________________________________\n"
     ]
    }
   ],
   "source": [
    "model = tf.keras.Sequential([\n",
    "    tf.keras.layers.Embedding(vocab_size, embedding_dim, input_length = max_length),\n",
    "#     tf.keras.layers.Conv1D(64, 5, activation='relu'),\n",
    "#     tf.keras.layers.MaxPooling1D(pool_size=3),    \n",
    "    tf.keras.layers.GlobalAveragePooling1D(),\n",
    "    tf.keras.layers.Dropout(0.2),\n",
    "    #tf.keras.layers.Dense(64, activation = 'relu'),\n",
    "    tf.keras.layers.Dense(32, activation = 'sigmoid'),\n",
    "    #tf.keras.layers.Dropout(0.2),\n",
    "    tf.keras.layers.Dense(7, activation = 'softmax')])\n",
    "\n",
    "model.compile(loss = 'sparse_categorical_crossentropy', optimizer = tf.keras.optimizers.Adam(lr=0.002), metrics=['acc'])\n",
    "model.summary()"
   ]
  },
  {
   "cell_type": "code",
   "execution_count": 14,
   "metadata": {
    "scrolled": false
   },
   "outputs": [
    {
     "name": "stdout",
     "output_type": "stream",
     "text": [
      "Train on 5452 samples, validate on 500 samples\n",
      "Epoch 1/10\n",
      "5452/5452 - 12s - loss: 1.7788 - acc: 0.2474 - val_loss: 1.6439 - val_acc: 0.2680\n",
      "Epoch 2/10\n",
      "5452/5452 - 8s - loss: 1.3300 - acc: 0.5378 - val_loss: 1.1732 - val_acc: 0.5560\n",
      "Epoch 3/10\n",
      "5452/5452 - 8s - loss: 0.7530 - acc: 0.7927 - val_loss: 0.7656 - val_acc: 0.7960\n",
      "Epoch 4/10\n",
      "5452/5452 - 8s - loss: 0.4201 - acc: 0.9002 - val_loss: 0.5988 - val_acc: 0.8400\n",
      "Epoch 5/10\n",
      "5452/5452 - 9s - loss: 0.2566 - acc: 0.9373 - val_loss: 0.5403 - val_acc: 0.8300\n",
      "Epoch 6/10\n",
      "5452/5452 - 8s - loss: 0.1681 - acc: 0.9582 - val_loss: 0.4759 - val_acc: 0.8420\n",
      "Epoch 7/10\n",
      "5452/5452 - 8s - loss: 0.1154 - acc: 0.9752 - val_loss: 0.4818 - val_acc: 0.8580\n",
      "Epoch 8/10\n",
      "5452/5452 - 8s - loss: 0.0818 - acc: 0.9840 - val_loss: 0.4417 - val_acc: 0.8740\n",
      "Epoch 9/10\n",
      "5452/5452 - 8s - loss: 0.0594 - acc: 0.9901 - val_loss: 0.4394 - val_acc: 0.8760\n",
      "Epoch 10/10\n",
      "5452/5452 - 8s - loss: 0.0465 - acc: 0.9919 - val_loss: 0.4455 - val_acc: 0.8660\n"
     ]
    }
   ],
   "source": [
    "num_epochs = 10\n",
    "history = model.fit(train_padded, training_category_seq, epochs = num_epochs, validation_data=(validation_padded, validation_category_seq), verbose = 2)"
   ]
  },
  {
   "cell_type": "code",
   "execution_count": 15,
   "metadata": {},
   "outputs": [
    {
     "data": {
      "image/png": "[encoded data removed]",
      "text/plain": [
       "<Figure size 432x288 with 1 Axes>"
      ]
     },
     "metadata": {
      "needs_background": "light"
     },
     "output_type": "display_data"
    },
    {
     "data": {
      "image/png": "[encoded data removed]",
      "text/plain": [
       "<Figure size 432x288 with 1 Axes>"
      ]
     },
     "metadata": {
      "needs_background": "light"
     },
     "output_type": "display_data"
    }
   ],
   "source": [
    "import matplotlib.pyplot as plt\n",
    "\n",
    "def plot_graphs(history, string):\n",
    "  plt.plot(history.history[string])\n",
    "  plt.plot(history.history['val_'+string])\n",
    "  plt.xlabel(\"Epochs\")\n",
    "  plt.ylabel(string)\n",
    "  plt.legend([string, 'val_'+string])\n",
    "  plt.show()\n",
    "  \n",
    "plot_graphs(history, \"acc\")\n",
    "plot_graphs(history, \"loss\")"
   ]
  },
  {
   "cell_type": "code",
   "execution_count": null,
   "metadata": {},
   "outputs": [],
   "source": []
  },
  {
   "cell_type": "code",
   "execution_count": null,
   "metadata": {},
   "outputs": [],
   "source": []
  },
  {
   "cell_type": "code",
   "execution_count": 16,
   "metadata": {},
   "outputs": [],
   "source": [
    "subcategory_tokenizer = Tokenizer()\n",
    "subcategory_tokenizer.fit_on_texts(category)\n",
    "\n",
    "training_subcategory_seq = pad_sequences(np.array(subcategory_tokenizer.texts_to_sequences(train_subcategory)), maxlen=1)\n",
    "validation_subcategory_seq = pad_sequences(np.array(subcategory_tokenizer.texts_to_sequences(validation_subcategory)), maxlen=1)"
   ]
  },
  {
   "cell_type": "code",
   "execution_count": 17,
   "metadata": {},
   "outputs": [
    {
     "name": "stdout",
     "output_type": "stream",
     "text": [
      "Model: \"sequential_1\"\n",
      "_________________________________________________________________\n",
      "Layer (type)                 Output Shape              Param #   \n",
      "=================================================================\n",
      "embedding_1 (Embedding)      (None, 20, 256)           1792000   \n",
      "_________________________________________________________________\n",
      "conv1d (Conv1D)              (None, 16, 64)            81984     \n",
      "_________________________________________________________________\n",
      "max_pooling1d (MaxPooling1D) (None, 5, 64)             0         \n",
      "_________________________________________________________________\n",
      "global_average_pooling1d_1 ( (None, 64)                0         \n",
      "_________________________________________________________________\n",
      "dropout_1 (Dropout)          (None, 64)                0         \n",
      "_________________________________________________________________\n",
      "dense_2 (Dense)              (None, 32)                2080      \n",
      "_________________________________________________________________\n",
      "dense_3 (Dense)              (None, 7)                 231       \n",
      "=================================================================\n",
      "Total params: 1,876,295\n",
      "Trainable params: 1,876,295\n",
      "Non-trainable params: 0\n",
      "_________________________________________________________________\n"
     ]
    }
   ],
   "source": [
    "model1 = tf.keras.Sequential([\n",
    "    tf.keras.layers.Embedding(vocab_size, embedding_dim, input_length = max_length),\n",
    "    tf.keras.layers.Conv1D(64, 5, activation='relu'),\n",
    "    tf.keras.layers.MaxPooling1D(pool_size=3),    \n",
    "    tf.keras.layers.GlobalAveragePooling1D(),\n",
    "    tf.keras.layers.Dropout(0.2),\n",
    "    tf.keras.layers.Dense(32, activation = 'relu'),\n",
    "    tf.keras.layers.Dense(7, activation = 'softmax')\n",
    "])\n",
    "\n",
    "model1.compile(loss = 'sparse_categorical_crossentropy', optimizer = 'adam', metrics=['acc'])\n",
    "model1.summary()"
   ]
  },
  {
   "cell_type": "code",
   "execution_count": 18,
   "metadata": {
    "scrolled": true
   },
   "outputs": [
    {
     "name": "stdout",
     "output_type": "stream",
     "text": [
      "Train on 5452 samples, validate on 500 samples\n",
      "Epoch 1/10\n",
      "5452/5452 - 12s - loss: 0.3468 - acc: 0.9369 - val_loss: 0.0990 - val_acc: 0.9800\n",
      "Epoch 2/10\n",
      "5452/5452 - 10s - loss: 0.1584 - acc: 0.9514 - val_loss: 0.0804 - val_acc: 0.9840\n",
      "Epoch 3/10\n",
      "5452/5452 - 10s - loss: 0.0515 - acc: 0.9829 - val_loss: 0.0565 - val_acc: 0.9800\n",
      "Epoch 4/10\n",
      "5452/5452 - 10s - loss: 0.0162 - acc: 0.9949 - val_loss: 0.0641 - val_acc: 0.9780\n",
      "Epoch 5/10\n",
      "5452/5452 - 10s - loss: 0.0087 - acc: 0.9972 - val_loss: 0.0646 - val_acc: 0.9740\n",
      "Epoch 6/10\n",
      "5452/5452 - 10s - loss: 0.0046 - acc: 0.9985 - val_loss: 0.0651 - val_acc: 0.9800\n",
      "Epoch 7/10\n",
      "5452/5452 - 10s - loss: 0.0033 - acc: 0.9991 - val_loss: 0.0760 - val_acc: 0.9740\n",
      "Epoch 8/10\n",
      "5452/5452 - 10s - loss: 0.0011 - acc: 1.0000 - val_loss: 0.0737 - val_acc: 0.9800\n",
      "Epoch 9/10\n",
      "5452/5452 - 10s - loss: 6.2667e-04 - acc: 1.0000 - val_loss: 0.0795 - val_acc: 0.9760\n",
      "Epoch 10/10\n",
      "5452/5452 - 10s - loss: 0.0014 - acc: 0.9998 - val_loss: 0.0757 - val_acc: 0.9780\n"
     ]
    }
   ],
   "source": [
    "num_epochs = 10\n",
    "history1 = model1.fit((train_padded, training_category_seq), training_subcategory_seq, epochs = num_epochs, validation_data=((validation_padded, validation_category_seq), validation_subcategory_seq), verbose = 2)"
   ]
  },
  {
   "cell_type": "code",
   "execution_count": 20,
   "metadata": {},
   "outputs": [
    {
     "data": {
      "image/png": "[encoded data removed]",
      "text/plain": [
       "<Figure size 432x288 with 1 Axes>"
      ]
     },
     "metadata": {
      "needs_background": "light"
     },
     "output_type": "display_data"
    },
    {
     "data": {
      "image/png": "[encoded data removed]",
      "text/plain": [
       "<Figure size 432x288 with 1 Axes>"
      ]
     },
     "metadata": {
      "needs_background": "light"
     },
     "output_type": "display_data"
    }
   ],
   "source": [
    "import matplotlib.pyplot as plt\n",
    "\n",
    "def plot_graphs(history, string):\n",
    "  plt.plot(history.history[string])\n",
    "  plt.plot(history.history['val_'+string])\n",
    "  plt.xlabel(\"Epochs\")\n",
    "  plt.ylabel(string)\n",
    "  plt.legend([string, 'val_'+string])\n",
    "  plt.show()\n",
    "  \n",
    "plot_graphs(history1, \"acc\")\n",
    "plot_graphs(history1, \"loss\")"
   ]
  },
  {
   "cell_type": "code",
   "execution_count": null,
   "metadata": {},
   "outputs": [],
   "source": []
  }
 ],
 "metadata": {
  "kernelspec": {
   "display_name": "Python 3",
   "language": "python",
   "name": "python3"
  },
  "language_info": {
   "codemirror_mode": {
    "name": "ipython",
    "version": 3
   },
   "file_extension": ".py",
   "mimetype": "text/x-python",
   "name": "python",
   "nbconvert_exporter": "python",
   "pygments_lexer": "ipython3",
   "version": "3.7.7"
  }
 },
 "nbformat": 4,
 "nbformat_minor": 4
}
