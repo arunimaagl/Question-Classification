{
 "cells": [
  {
   "cell_type": "code",
   "execution_count": 42,
   "metadata": {},
   "outputs": [],
   "source": [
    "import tensorflow as tf\n",
    "from tensorflow import keras\n",
    "import pandas as pd\n",
    "import numpy as np\n",
    "from tensorflow.keras.preprocessing.text import Tokenizer\n",
    "from tensorflow.keras.preprocessing.sequence import pad_sequences"
   ]
  },
  {
   "cell_type": "code",
   "execution_count": 44,
   "metadata": {},
   "outputs": [],
   "source": [
    "vocab_size = 2000\n",
    "embedding_dim = 256\n",
    "max_length = 30\n",
    "trunc_type='post'\n",
    "padding_type='post'\n",
    "oov_tok = \"<OOV>\"\n",
    "training_portion = .8"
   ]
  },
  {
   "cell_type": "code",
   "execution_count": 46,
   "metadata": {},
   "outputs": [],
   "source": [
    "stopwords = [ \"a\", \"about\", \"above\", \"after\", \"again\", \"against\", \"all\", \"am\", \"an\", \"and\", \"any\", \"are\", \"as\", \"at\", \"be\", \"because\", \"been\", \"before\", \"being\", \"below\", \"between\", \"both\", \"but\", \"by\", \"could\", \"did\", \"do\", \"does\", \"doing\", \"down\", \"during\", \"each\", \"few\", \"for\", \"from\", \"further\", \"had\", \"has\", \"have\", \"having\", \"he\", \"he'd\", \"he'll\", \"he's\", \"her\", \"here\", \"here's\", \"hers\", \"herself\", \"him\", \"himself\", \"his\", \"i\", \"i'd\", \"i'll\", \"i'm\", \"i've\", \"if\", \"in\", \"into\", \"is\", \"it\", \"it's\", \"its\", \"itself\", \"let's\", \"me\", \"more\", \"most\", \"my\", \"myself\", \"nor\", \"of\", \"on\", \"once\", \"only\", \"or\", \"other\", \"ought\", \"our\", \"ours\", \"ourselves\", \"out\", \"over\", \"own\", \"same\", \"she\", \"she'd\", \"she'll\", \"she's\", \"should\", \"so\", \"some\", \"such\", \"than\", \"that\", \"that's\", \"the\", \"their\", \"theirs\", \"them\", \"themselves\", \"then\", \"there\", \"there's\", \"these\", \"they\", \"they'd\", \"they'll\", \"they're\", \"they've\", \"this\", \"those\", \"through\", \"to\", \"too\", \"under\", \"until\", \"up\", \"very\", \"was\", \"we\", \"we'd\", \"we'll\", \"we're\", \"we've\", \"were\", \"while\", \"with\", \"you\", \"you'd\", \"you'll\", \"you're\", \"you've\", \"your\", \"yours\", \"yourself\", \"yourselves\" ]\n",
    "# punctuations = '''!()-[]{};:'\"\\,<>./?@#$%^&*_~'''"
   ]
  },
  {
   "cell_type": "code",
   "execution_count": 47,
   "metadata": {},
   "outputs": [],
   "source": [
    "category = []\n",
    "questions = []\n",
    "\n",
    "with open('train_1000.label', 'r') as f:\n",
    "    for line in f:\n",
    "        split_index = line.index(\" \")\n",
    "        category.append(line[:split_index])\n",
    "        questions.append(line[(split_index+1):])"
   ]
  },
  {
   "cell_type": "code",
   "execution_count": 48,
   "metadata": {},
   "outputs": [
    {
     "name": "stdout",
     "output_type": "stream",
     "text": [
      "1000\n",
      "1000\n",
      "['how serfdom develop leave russia', 'what films featured character popeye doyle', \"how can find list celebrities ' real names\", 'what fowl grabs spotlight chinese year monkey', 'what full form .com', 'what contemptible scoundrel stole cork lunch', \"what team baseball 's st. louis browns become\", 'what oldest profession', 'what liver enzymes', 'name scar-faced bounty hunter old west']\n"
     ]
    }
   ],
   "source": [
    "for i in range(0,len(questions)):\n",
    "    question = questions[i].lower()\n",
    "    for word in stopwords:\n",
    "        token = \" \" + word + \" \"\n",
    "        question = question.replace(token, \" \")\n",
    "#     question.replace(\"\\n\", \"\")\n",
    "    question = question[:-3]\n",
    "    questions[i] = question\n",
    "print(len(category))\n",
    "print(len(questions))\n",
    "print(questions[0:10])"
   ]
  },
  {
   "cell_type": "code",
   "execution_count": 49,
   "metadata": {},
   "outputs": [
    {
     "name": "stdout",
     "output_type": "stream",
     "text": [
      "800\n",
      "800\n",
      "800\n",
      "200\n",
      "200\n"
     ]
    }
   ],
   "source": [
    "train_size = int(len(questions) * training_portion)\n",
    "\n",
    "train_questions = questions[:train_size]\n",
    "train_category = category[:train_size]\n",
    "\n",
    "validation_questions = questions[train_size:]\n",
    "validation_category = category[train_size:]\n",
    "\n",
    "print(train_size)\n",
    "print(len(train_questions))\n",
    "print(len(train_category))\n",
    "print(len(validation_questions))\n",
    "print(len(validation_category))"
   ]
  },
  {
   "cell_type": "code",
   "execution_count": 50,
   "metadata": {},
   "outputs": [
    {
     "name": "stdout",
     "output_type": "stream",
     "text": [
      "2285\n",
      "5\n",
      "30\n",
      "6\n",
      "30\n"
     ]
    }
   ],
   "source": [
    "tokenizer = Tokenizer(num_words = vocab_size, oov_token = oov_tok)\n",
    "tokenizer.fit_on_texts(train_questions)\n",
    "word_index = tokenizer.word_index\n",
    "print(len(word_index))\n",
    "\n",
    "train_sequences = tokenizer.texts_to_sequences(train_questions)\n",
    "train_padded = pad_sequences(train_sequences, padding=padding_type, maxlen=max_length, truncating=trunc_type)\n",
    "\n",
    "print(len(train_sequences[0]))\n",
    "print(len(train_padded[0]))\n",
    "\n",
    "print(len(train_sequences[1]))\n",
    "print(len(train_padded[1]))"
   ]
  },
  {
   "cell_type": "code",
   "execution_count": 51,
   "metadata": {},
   "outputs": [
    {
     "name": "stdout",
     "output_type": "stream",
     "text": [
      "200\n",
      "(200, 30)\n"
     ]
    }
   ],
   "source": [
    "validation_sequences = tokenizer.texts_to_sequences(validation_questions)\n",
    "validation_padded = pad_sequences(validation_sequences, padding=padding_type, maxlen=max_length, truncating=trunc_type)\n",
    "\n",
    "print(len(validation_sequences))\n",
    "print(validation_padded.shape)"
   ]
  },
  {
   "cell_type": "code",
   "execution_count": 52,
   "metadata": {},
   "outputs": [],
   "source": [
    "category_tokenizer = Tokenizer()\n",
    "category_tokenizer.fit_on_texts(category)\n",
    "\n",
    "training_category_seq = pad_sequences(np.array(category_tokenizer.texts_to_sequences(train_category)), maxlen=1)\n",
    "validation_category_seq = pad_sequences(np.array(category_tokenizer.texts_to_sequences(validation_category)), maxlen=1)"
   ]
  },
  {
   "cell_type": "code",
   "execution_count": 53,
   "metadata": {},
   "outputs": [
    {
     "name": "stdout",
     "output_type": "stream",
     "text": [
      "Model: \"sequential_4\"\n",
      "_________________________________________________________________\n",
      "Layer (type)                 Output Shape              Param #   \n",
      "=================================================================\n",
      "embedding_4 (Embedding)      (None, 30, 256)           512000    \n",
      "_________________________________________________________________\n",
      "global_average_pooling1d_4 ( (None, 256)               0         \n",
      "_________________________________________________________________\n",
      "dropout_1 (Dropout)          (None, 256)               0         \n",
      "_________________________________________________________________\n",
      "dense_8 (Dense)              (None, 128)               32896     \n",
      "_________________________________________________________________\n",
      "dense_9 (Dense)              (None, 60)                7740      \n",
      "=================================================================\n",
      "Total params: 552,636\n",
      "Trainable params: 552,636\n",
      "Non-trainable params: 0\n",
      "_________________________________________________________________\n"
     ]
    }
   ],
   "source": [
    "model = tf.keras.Sequential([\n",
    "    tf.keras.layers.Embedding(vocab_size, embedding_dim, input_length = max_length),\n",
    "    tf.keras.layers.GlobalAveragePooling1D(),\n",
    "    tf.keras.layers.Dropout(0.2),\n",
    "    tf.keras.layers.Dense(128, activation = 'relu'),\n",
    "    tf.keras.layers.Dense(60, activation = 'softmax')\n",
    "])\n",
    "\n",
    "model.compile(loss = 'sparse_categorical_crossentropy', optimizer = 'adam', metrics=['acc'])\n",
    "model.summary()"
   ]
  },
  {
   "cell_type": "code",
   "execution_count": 54,
   "metadata": {
    "scrolled": false
   },
   "outputs": [
    {
     "name": "stdout",
     "output_type": "stream",
     "text": [
      "Train on 800 samples, validate on 200 samples\n",
      "Epoch 1/50\n",
      "800/800 - 2s - loss: 3.8979 - acc: 0.1562 - val_loss: 3.5656 - val_acc: 0.2100\n",
      "Epoch 2/50\n",
      "800/800 - 1s - loss: 3.2678 - acc: 0.1663 - val_loss: 3.1797 - val_acc: 0.2100\n",
      "Epoch 3/50\n",
      "800/800 - 1s - loss: 3.0789 - acc: 0.1525 - val_loss: 3.1173 - val_acc: 0.2100\n",
      "Epoch 4/50\n",
      "800/800 - 0s - loss: 3.0382 - acc: 0.1675 - val_loss: 3.0944 - val_acc: 0.2100\n",
      "Epoch 5/50\n",
      "800/800 - 1s - loss: 3.0008 - acc: 0.1663 - val_loss: 3.0771 - val_acc: 0.2100\n",
      "Epoch 6/50\n",
      "800/800 - 1s - loss: 2.9780 - acc: 0.1688 - val_loss: 3.0528 - val_acc: 0.2100\n",
      "Epoch 7/50\n",
      "800/800 - 1s - loss: 2.9256 - acc: 0.2375 - val_loss: 3.0046 - val_acc: 0.2100\n",
      "Epoch 8/50\n",
      "800/800 - 1s - loss: 2.8636 - acc: 0.1825 - val_loss: 2.9668 - val_acc: 0.2800\n",
      "Epoch 9/50\n",
      "800/800 - 1s - loss: 2.7854 - acc: 0.2763 - val_loss: 2.9066 - val_acc: 0.2200\n",
      "Epoch 10/50\n",
      "800/800 - 0s - loss: 2.6750 - acc: 0.3038 - val_loss: 2.8019 - val_acc: 0.3200\n",
      "Epoch 11/50\n",
      "800/800 - 0s - loss: 2.5338 - acc: 0.3562 - val_loss: 2.7111 - val_acc: 0.3200\n",
      "Epoch 12/50\n",
      "800/800 - 0s - loss: 2.4001 - acc: 0.3625 - val_loss: 2.6327 - val_acc: 0.3450\n",
      "Epoch 13/50\n",
      "800/800 - 0s - loss: 2.2548 - acc: 0.3725 - val_loss: 2.5497 - val_acc: 0.3550\n",
      "Epoch 14/50\n",
      "800/800 - 0s - loss: 2.1158 - acc: 0.4150 - val_loss: 2.4776 - val_acc: 0.3750\n",
      "Epoch 15/50\n",
      "800/800 - 0s - loss: 1.9925 - acc: 0.4863 - val_loss: 2.4065 - val_acc: 0.4250\n",
      "Epoch 16/50\n",
      "800/800 - 0s - loss: 1.8656 - acc: 0.5512 - val_loss: 2.3733 - val_acc: 0.4450\n",
      "Epoch 17/50\n",
      "800/800 - 0s - loss: 1.7503 - acc: 0.5813 - val_loss: 2.2989 - val_acc: 0.4550\n",
      "Epoch 18/50\n",
      "800/800 - 0s - loss: 1.6293 - acc: 0.6350 - val_loss: 2.2632 - val_acc: 0.4900\n",
      "Epoch 19/50\n",
      "800/800 - 0s - loss: 1.5050 - acc: 0.6737 - val_loss: 2.2007 - val_acc: 0.5050\n",
      "Epoch 20/50\n",
      "800/800 - 0s - loss: 1.3901 - acc: 0.6988 - val_loss: 2.1941 - val_acc: 0.4900\n",
      "Epoch 21/50\n",
      "800/800 - 0s - loss: 1.2762 - acc: 0.7125 - val_loss: 2.0999 - val_acc: 0.4850\n",
      "Epoch 22/50\n",
      "800/800 - 1s - loss: 1.1654 - acc: 0.7487 - val_loss: 2.0576 - val_acc: 0.5100\n",
      "Epoch 23/50\n",
      "800/800 - 0s - loss: 1.0487 - acc: 0.7825 - val_loss: 2.0175 - val_acc: 0.5150\n",
      "Epoch 24/50\n",
      "800/800 - 1s - loss: 0.9633 - acc: 0.7987 - val_loss: 1.9674 - val_acc: 0.5450\n",
      "Epoch 25/50\n",
      "800/800 - 0s - loss: 0.8836 - acc: 0.8275 - val_loss: 1.9879 - val_acc: 0.5000\n",
      "Epoch 26/50\n",
      "800/800 - 0s - loss: 0.8117 - acc: 0.8138 - val_loss: 1.9599 - val_acc: 0.5350\n",
      "Epoch 27/50\n",
      "800/800 - 0s - loss: 0.7378 - acc: 0.8500 - val_loss: 1.9323 - val_acc: 0.5300\n",
      "Epoch 28/50\n",
      "800/800 - 0s - loss: 0.6770 - acc: 0.8662 - val_loss: 1.8895 - val_acc: 0.5700\n",
      "Epoch 29/50\n",
      "800/800 - 0s - loss: 0.6194 - acc: 0.8737 - val_loss: 1.8927 - val_acc: 0.5600\n",
      "Epoch 30/50\n",
      "800/800 - 0s - loss: 0.5776 - acc: 0.8825 - val_loss: 1.8947 - val_acc: 0.5500\n",
      "Epoch 31/50\n",
      "800/800 - 0s - loss: 0.5362 - acc: 0.8875 - val_loss: 1.8866 - val_acc: 0.5650\n",
      "Epoch 32/50\n",
      "800/800 - 0s - loss: 0.4916 - acc: 0.9013 - val_loss: 1.8972 - val_acc: 0.5900\n",
      "Epoch 33/50\n",
      "800/800 - 0s - loss: 0.4491 - acc: 0.9162 - val_loss: 1.9113 - val_acc: 0.5750\n",
      "Epoch 34/50\n",
      "800/800 - 0s - loss: 0.4256 - acc: 0.9212 - val_loss: 1.9048 - val_acc: 0.5950\n",
      "Epoch 35/50\n",
      "800/800 - 0s - loss: 0.3910 - acc: 0.9337 - val_loss: 1.9064 - val_acc: 0.5900\n",
      "Epoch 36/50\n",
      "800/800 - 0s - loss: 0.3737 - acc: 0.9325 - val_loss: 1.8946 - val_acc: 0.6000\n",
      "Epoch 37/50\n",
      "800/800 - 0s - loss: 0.3463 - acc: 0.9513 - val_loss: 1.8817 - val_acc: 0.6150\n",
      "Epoch 38/50\n",
      "800/800 - 0s - loss: 0.3198 - acc: 0.9488 - val_loss: 1.9328 - val_acc: 0.6050\n",
      "Epoch 39/50\n",
      "800/800 - 0s - loss: 0.3014 - acc: 0.9488 - val_loss: 1.9248 - val_acc: 0.6050\n",
      "Epoch 40/50\n",
      "800/800 - 0s - loss: 0.2750 - acc: 0.9588 - val_loss: 1.9282 - val_acc: 0.6050\n",
      "Epoch 41/50\n",
      "800/800 - 0s - loss: 0.2622 - acc: 0.9650 - val_loss: 1.9849 - val_acc: 0.5950\n",
      "Epoch 42/50\n",
      "800/800 - 0s - loss: 0.2491 - acc: 0.9650 - val_loss: 1.9283 - val_acc: 0.6150\n",
      "Epoch 43/50\n",
      "800/800 - 0s - loss: 0.2292 - acc: 0.9663 - val_loss: 1.9942 - val_acc: 0.5950\n",
      "Epoch 44/50\n",
      "800/800 - 0s - loss: 0.2137 - acc: 0.9688 - val_loss: 1.9611 - val_acc: 0.6150\n",
      "Epoch 45/50\n",
      "800/800 - 0s - loss: 0.2018 - acc: 0.9725 - val_loss: 1.9961 - val_acc: 0.6150\n",
      "Epoch 46/50\n",
      "800/800 - 0s - loss: 0.1910 - acc: 0.9750 - val_loss: 1.9964 - val_acc: 0.6200\n",
      "Epoch 47/50\n",
      "800/800 - 0s - loss: 0.1808 - acc: 0.9737 - val_loss: 2.0150 - val_acc: 0.6250\n",
      "Epoch 48/50\n",
      "800/800 - 0s - loss: 0.1667 - acc: 0.9762 - val_loss: 1.9920 - val_acc: 0.6150\n",
      "Epoch 49/50\n",
      "800/800 - 0s - loss: 0.1591 - acc: 0.9825 - val_loss: 2.0004 - val_acc: 0.6150\n",
      "Epoch 50/50\n",
      "800/800 - 0s - loss: 0.1487 - acc: 0.9825 - val_loss: 2.0376 - val_acc: 0.6200\n"
     ]
    }
   ],
   "source": [
    "num_epochs = 50\n",
    "history = model.fit(train_padded, training_category_seq, epochs = num_epochs, validation_data=(validation_padded, validation_category_seq), verbose = 2)"
   ]
  },
  {
   "cell_type": "code",
   "execution_count": 55,
   "metadata": {},
   "outputs": [
    {
     "data": {
      "image/png": "[encoded data removed]",
      "text/plain": [
       "<Figure size 432x288 with 1 Axes>"
      ]
     },
     "metadata": {
      "needs_background": "light"
     },
     "output_type": "display_data"
    },
    {
     "data": {
      "image/png": "[encoded data removed]",
      "text/plain": [
       "<Figure size 432x288 with 1 Axes>"
      ]
     },
     "metadata": {
      "needs_background": "light"
     },
     "output_type": "display_data"
    }
   ],
   "source": [
    "import matplotlib.pyplot as plt\n",
    "\n",
    "def plot_graphs(history, string):\n",
    "  plt.plot(history.history[string])\n",
    "  plt.plot(history.history['val_'+string])\n",
    "  plt.xlabel(\"Epochs\")\n",
    "  plt.ylabel(string)\n",
    "  plt.legend([string, 'val_'+string])\n",
    "  plt.show()\n",
    "  \n",
    "plot_graphs(history, \"acc\")\n",
    "plot_graphs(history, \"loss\")"
   ]
  },
  {
   "cell_type": "code",
   "execution_count": null,
   "metadata": {},
   "outputs": [],
   "source": []
  }
 ],
 "metadata": {
  "kernelspec": {
   "display_name": "Python 3",
   "language": "python",
   "name": "python3"
  },
  "language_info": {
   "codemirror_mode": {
    "name": "ipython",
    "version": 3
   },
   "file_extension": ".py",
   "mimetype": "text/x-python",
   "name": "python",
   "nbconvert_exporter": "python",
   "pygments_lexer": "ipython3",
   "version": "3.7.7"
  }
 },
 "nbformat": 4,
 "nbformat_minor": 4
}
