{
 "cells": [
  {
   "cell_type": "code",
   "execution_count": 1,
   "metadata": {},
   "outputs": [],
   "source": [
    "import tensorflow as tf\n",
    "from tensorflow import keras\n",
    "import pandas as pd\n",
    "import numpy as np\n",
    "from tensorflow.keras.preprocessing.text import Tokenizer\n",
    "from tensorflow.keras.preprocessing.sequence import pad_sequences"
   ]
  },
  {
   "cell_type": "code",
   "execution_count": 2,
   "metadata": {},
   "outputs": [],
   "source": [
    "vocab_size = 7000\n",
    "embedding_dim = 256\n",
    "max_length = 30\n",
    "trunc_type='post'\n",
    "padding_type='post'\n",
    "oov_tok = \"<OOV>\"\n",
    "training_portion = .8"
   ]
  },
  {
   "cell_type": "code",
   "execution_count": 3,
   "metadata": {},
   "outputs": [],
   "source": [
    "stopwords = [ \"a\", \"about\", \"above\", \"after\", \"again\", \"against\", \"all\", \"am\", \"an\", \"and\", \"any\", \"are\", \"as\", \"at\", \"be\", \"because\", \"been\", \"before\", \"being\", \"below\", \"between\", \"both\", \"but\", \"by\", \"could\", \"did\", \"do\", \"does\", \"doing\", \"down\", \"during\", \"each\", \"few\", \"for\", \"from\", \"further\", \"had\", \"has\", \"have\", \"having\", \"he\", \"he'd\", \"he'll\", \"he's\", \"her\", \"here\", \"here's\", \"hers\", \"herself\", \"him\", \"himself\", \"his\", \"i\", \"i'd\", \"i'll\", \"i'm\", \"i've\", \"if\", \"in\", \"into\", \"is\", \"it\", \"it's\", \"its\", \"itself\", \"let's\", \"me\", \"more\", \"most\", \"my\", \"myself\", \"nor\", \"of\", \"on\", \"once\", \"only\", \"or\", \"other\", \"ought\", \"our\", \"ours\", \"ourselves\", \"out\", \"over\", \"own\", \"same\", \"she\", \"she'd\", \"she'll\", \"she's\", \"should\", \"so\", \"some\", \"such\", \"than\", \"that\", \"that's\", \"the\", \"their\", \"theirs\", \"them\", \"themselves\", \"then\", \"there\", \"there's\", \"these\", \"they\", \"they'd\", \"they'll\", \"they're\", \"they've\", \"this\", \"those\", \"through\", \"to\", \"too\", \"under\", \"until\", \"up\", \"very\", \"was\", \"we\", \"we'd\", \"we'll\", \"we're\", \"we've\", \"were\", \"while\", \"with\", \"you\", \"you'd\", \"you'll\", \"you're\", \"you've\", \"your\", \"yours\", \"yourself\", \"yourselves\"]\n",
    "punctuations = '''!()-[]{};:'\"\\,<>./?@#$%^&*_~\\n'''"
   ]
  },
  {
   "cell_type": "code",
   "execution_count": 4,
   "metadata": {},
   "outputs": [
    {
     "name": "stdout",
     "output_type": "stream",
     "text": [
      "DESC\n",
      "manner\n",
      "How did serfdom develop in and then leave Russia ?\n",
      "\n"
     ]
    }
   ],
   "source": [
    "category = []\n",
    "subcategory = []\n",
    "questions = []\n",
    "\n",
    "with open('train_5500.label', 'r') as f:\n",
    "    for line in f:\n",
    "        split_index1 = line.index(\":\")\n",
    "        split_index2 = line.index(\" \")\n",
    "        category.append(line[:split_index1])\n",
    "        subcategory.append(line[split_index1+1:split_index2])\n",
    "        questions.append(line[(split_index2+1):])\n",
    "        \n",
    "print(category[0])\n",
    "print(subcategory[0])\n",
    "print(questions[0])"
   ]
  },
  {
   "cell_type": "code",
   "execution_count": 5,
   "metadata": {},
   "outputs": [
    {
     "name": "stdout",
     "output_type": "stream",
     "text": [
      "5452\n",
      "5452\n",
      "['how serfdom develop leave russia ', 'what films featured character popeye doyle ', 'how can find list celebrities  real names ', 'what fowl grabs spotlight chinese year monkey ', 'what full form com ', 'what contemptible scoundrel stole cork lunch ', 'what team baseball s st louis browns become ', 'what oldest profession ', 'what liver enzymes ', 'name scarfaced bounty hunter old west ']\n"
     ]
    }
   ],
   "source": [
    "for i in range(0,len(questions)):\n",
    "    question = questions[i].lower()\n",
    "    for word in stopwords:\n",
    "        token = \" \" + word + \" \"\n",
    "        question = question.replace(token, \" \")\n",
    "    no_punct = ''\n",
    "    for char in question:\n",
    "        if char not in punctuations:\n",
    "            no_punct = no_punct + char\n",
    "    questions[i] = no_punct\n",
    "\n",
    "print(len(category))\n",
    "print(len(questions))\n",
    "print(questions[0:10])"
   ]
  },
  {
   "cell_type": "code",
   "execution_count": 6,
   "metadata": {},
   "outputs": [
    {
     "name": "stdout",
     "output_type": "stream",
     "text": [
      "4361\n",
      "4361\n",
      "4361\n",
      "1091\n",
      "1091\n"
     ]
    }
   ],
   "source": [
    "train_size = int(len(questions) * training_portion)\n",
    "\n",
    "train_questions = questions[:train_size]\n",
    "train_category = category[:train_size]\n",
    "train_subcategory = subcategory[:train_size]\n",
    "\n",
    "validation_questions = questions[train_size:]\n",
    "validation_category = category[train_size:]\n",
    "validation_subcategory = subcategory[train_size:]\n",
    "\n",
    "print(train_size)\n",
    "print(len(train_questions))\n",
    "print(len(train_category))\n",
    "print(len(validation_questions))\n",
    "print(len(validation_category))"
   ]
  },
  {
   "cell_type": "code",
   "execution_count": 7,
   "metadata": {},
   "outputs": [
    {
     "name": "stdout",
     "output_type": "stream",
     "text": [
      "7446\n",
      "5\n",
      "30\n",
      "6\n",
      "30\n"
     ]
    }
   ],
   "source": [
    "tokenizer = Tokenizer(num_words = vocab_size, oov_token = oov_tok)\n",
    "tokenizer.fit_on_texts(train_questions)\n",
    "word_index = tokenizer.word_index\n",
    "print(len(word_index))\n",
    "\n",
    "train_sequences = tokenizer.texts_to_sequences(train_questions)\n",
    "train_padded = pad_sequences(train_sequences, padding=padding_type, maxlen=max_length, truncating=trunc_type)\n",
    "\n",
    "print(len(train_sequences[0]))\n",
    "print(len(train_padded[0]))\n",
    "\n",
    "print(len(train_sequences[1]))\n",
    "print(len(train_padded[1]))"
   ]
  },
  {
   "cell_type": "code",
   "execution_count": 8,
   "metadata": {},
   "outputs": [
    {
     "name": "stdout",
     "output_type": "stream",
     "text": [
      "1091\n",
      "(1091, 30)\n"
     ]
    }
   ],
   "source": [
    "validation_sequences = tokenizer.texts_to_sequences(validation_questions)\n",
    "validation_padded = pad_sequences(validation_sequences, padding=padding_type, maxlen=max_length, truncating=trunc_type)\n",
    "\n",
    "print(len(validation_sequences))\n",
    "print(validation_padded.shape)"
   ]
  },
  {
   "cell_type": "code",
   "execution_count": 9,
   "metadata": {},
   "outputs": [],
   "source": [
    "category_tokenizer = Tokenizer()\n",
    "category_tokenizer.fit_on_texts(category)\n",
    "\n",
    "training_category_seq = pad_sequences(np.array(category_tokenizer.texts_to_sequences(train_category)), maxlen=1)\n",
    "validation_category_seq = pad_sequences(np.array(category_tokenizer.texts_to_sequences(validation_category)), maxlen=1)"
   ]
  },
  {
   "cell_type": "code",
   "execution_count": 19,
   "metadata": {},
   "outputs": [
    {
     "name": "stdout",
     "output_type": "stream",
     "text": [
      "Model: \"sequential_2\"\n",
      "_________________________________________________________________\n",
      "Layer (type)                 Output Shape              Param #   \n",
      "=================================================================\n",
      "embedding_2 (Embedding)      (None, 30, 256)           1792000   \n",
      "_________________________________________________________________\n",
      "global_average_pooling1d_2 ( (None, 256)               0         \n",
      "_________________________________________________________________\n",
      "dense_4 (Dense)              (None, 128)               32896     \n",
      "_________________________________________________________________\n",
      "dense_5 (Dense)              (None, 60)                7740      \n",
      "=================================================================\n",
      "Total params: 1,832,636\n",
      "Trainable params: 1,832,636\n",
      "Non-trainable params: 0\n",
      "_________________________________________________________________\n"
     ]
    }
   ],
   "source": [
    "model = tf.keras.Sequential([\n",
    "    tf.keras.layers.Embedding(vocab_size, embedding_dim, input_length = max_length),\n",
    "    tf.keras.layers.GlobalAveragePooling1D(),\n",
    "#    tf.keras.layers.Dropout(0.2),\n",
    "    tf.keras.layers.Dense(128, activation = 'relu'),\n",
    "    tf.keras.layers.Dense(60, activation = 'softmax')\n",
    "])\n",
    "\n",
    "model.compile(loss = 'sparse_categorical_crossentropy', optimizer = 'adam', metrics=['acc'])\n",
    "model.summary()"
   ]
  },
  {
   "cell_type": "code",
   "execution_count": 20,
   "metadata": {
    "scrolled": false
   },
   "outputs": [
    {
     "name": "stdout",
     "output_type": "stream",
     "text": [
      "Train on 4361 samples, validate on 1091 samples\n",
      "Epoch 1/10\n",
      "4361/4361 - 17s - loss: 2.2225 - acc: 0.2185 - val_loss: 1.6384 - val_acc: 0.2209\n",
      "Epoch 2/10\n",
      "4361/4361 - 12s - loss: 1.6011 - acc: 0.2974 - val_loss: 1.5277 - val_acc: 0.3969\n",
      "Epoch 3/10\n",
      "4361/4361 - 12s - loss: 1.3721 - acc: 0.5547 - val_loss: 1.2057 - val_acc: 0.5784\n",
      "Epoch 4/10\n",
      "4361/4361 - 12s - loss: 0.9675 - acc: 0.7565 - val_loss: 0.8869 - val_acc: 0.7122\n",
      "Epoch 5/10\n",
      "4361/4361 - 10s - loss: 0.6070 - acc: 0.8615 - val_loss: 0.7126 - val_acc: 0.7544\n",
      "Epoch 6/10\n",
      "4361/4361 - 7s - loss: 0.3834 - acc: 0.9138 - val_loss: 0.6235 - val_acc: 0.7773\n",
      "Epoch 7/10\n",
      "4361/4361 - 7s - loss: 0.2604 - acc: 0.9395 - val_loss: 0.5824 - val_acc: 0.7910\n",
      "Epoch 8/10\n",
      "4361/4361 - 7s - loss: 0.1854 - acc: 0.9601 - val_loss: 0.5753 - val_acc: 0.7901\n",
      "Epoch 9/10\n",
      "4361/4361 - 11s - loss: 0.1374 - acc: 0.9677 - val_loss: 0.5940 - val_acc: 0.8020\n",
      "Epoch 10/10\n",
      "4361/4361 - 12s - loss: 0.1076 - acc: 0.9791 - val_loss: 0.5924 - val_acc: 0.8084\n"
     ]
    }
   ],
   "source": [
    "num_epochs = 10\n",
    "history = model.fit(train_padded, training_category_seq, epochs = num_epochs, validation_data=(validation_padded, validation_category_seq), verbose = 2)"
   ]
  },
  {
   "cell_type": "code",
   "execution_count": 21,
   "metadata": {},
   "outputs": [
    {
     "data": {
      "image/png": "[encoded data removed]",
      "text/plain": [
       "<Figure size 432x288 with 1 Axes>"
      ]
     },
     "metadata": {
      "needs_background": "light"
     },
     "output_type": "display_data"
    },
    {
     "data": {
      "image/png": "[encoded data removed]",
      "text/plain": [
       "<Figure size 432x288 with 1 Axes>"
      ]
     },
     "metadata": {
      "needs_background": "light"
     },
     "output_type": "display_data"
    }
   ],
   "source": [
    "import matplotlib.pyplot as plt\n",
    "\n",
    "def plot_graphs(history, string):\n",
    "  plt.plot(history.history[string])\n",
    "  plt.plot(history.history['val_'+string])\n",
    "  plt.xlabel(\"Epochs\")\n",
    "  plt.ylabel(string)\n",
    "  plt.legend([string, 'val_'+string])\n",
    "  plt.show()\n",
    "  \n",
    "plot_graphs(history, \"acc\")\n",
    "plot_graphs(history, \"loss\")"
   ]
  },
  {
   "cell_type": "code",
   "execution_count": null,
   "metadata": {},
   "outputs": [],
   "source": []
  },
  {
   "cell_type": "code",
   "execution_count": null,
   "metadata": {},
   "outputs": [],
   "source": []
  },
  {
   "cell_type": "code",
   "execution_count": 22,
   "metadata": {},
   "outputs": [],
   "source": [
    "subcategory_tokenizer = Tokenizer()\n",
    "subcategory_tokenizer.fit_on_texts(category)\n",
    "\n",
    "training_subcategory_seq = pad_sequences(np.array(subcategory_tokenizer.texts_to_sequences(train_subcategory)), maxlen=1)\n",
    "validation_subcategory_seq = pad_sequences(np.array(subcategory_tokenizer.texts_to_sequences(validation_subcategory)), maxlen=1)"
   ]
  },
  {
   "cell_type": "code",
   "execution_count": 26,
   "metadata": {},
   "outputs": [
    {
     "name": "stdout",
     "output_type": "stream",
     "text": [
      "Model: \"sequential_4\"\n",
      "_________________________________________________________________\n",
      "Layer (type)                 Output Shape              Param #   \n",
      "=================================================================\n",
      "embedding_4 (Embedding)      (None, 30, 256)           1792000   \n",
      "_________________________________________________________________\n",
      "global_average_pooling1d_4 ( (None, 256)               0         \n",
      "_________________________________________________________________\n",
      "dense_8 (Dense)              (None, 128)               32896     \n",
      "_________________________________________________________________\n",
      "dense_9 (Dense)              (None, 60)                7740      \n",
      "=================================================================\n",
      "Total params: 1,832,636\n",
      "Trainable params: 1,832,636\n",
      "Non-trainable params: 0\n",
      "_________________________________________________________________\n"
     ]
    }
   ],
   "source": [
    "model = tf.keras.Sequential([\n",
    "    tf.keras.layers.Embedding(vocab_size, embedding_dim, input_length = max_length),\n",
    "    tf.keras.layers.GlobalAveragePooling1D(),\n",
    "#    tf.keras.layers.Dropout(0.2),\n",
    "    tf.keras.layers.Dense(128, activation = 'relu'),\n",
    "    tf.keras.layers.Dense(60, activation = 'softmax')\n",
    "])\n",
    "\n",
    "model.compile(loss = 'sparse_categorical_crossentropy', optimizer = 'adam', metrics=['acc'])\n",
    "model.summary()"
   ]
  },
  {
   "cell_type": "code",
   "execution_count": 27,
   "metadata": {},
   "outputs": [
    {
     "name": "stdout",
     "output_type": "stream",
     "text": [
      "Train on 4361 samples, validate on 1091 samples\n",
      "Epoch 1/15\n",
      "4361/4361 - 8s - loss: 0.9578 - acc: 0.9333 - val_loss: 0.2211 - val_acc: 0.9441\n",
      "Epoch 2/15\n",
      "4361/4361 - 6s - loss: 0.2262 - acc: 0.9404 - val_loss: 0.2158 - val_acc: 0.9441\n",
      "Epoch 3/15\n",
      "4361/4361 - 5s - loss: 0.2170 - acc: 0.9404 - val_loss: 0.2103 - val_acc: 0.9441\n",
      "Epoch 4/15\n",
      "4361/4361 - 5s - loss: 0.2017 - acc: 0.9404 - val_loss: 0.1964 - val_acc: 0.9441\n",
      "Epoch 5/15\n",
      "4361/4361 - 5s - loss: 0.1663 - acc: 0.9413 - val_loss: 0.1652 - val_acc: 0.9450\n",
      "Epoch 6/15\n",
      "4361/4361 - 5s - loss: 0.1023 - acc: 0.9557 - val_loss: 0.1359 - val_acc: 0.9569\n",
      "Epoch 7/15\n",
      "4361/4361 - 5s - loss: 0.0500 - acc: 0.9837 - val_loss: 0.1303 - val_acc: 0.9615\n",
      "Epoch 8/15\n",
      "4361/4361 - 5s - loss: 0.0273 - acc: 0.9938 - val_loss: 0.1495 - val_acc: 0.9588\n",
      "Epoch 9/15\n",
      "4361/4361 - 5s - loss: 0.0167 - acc: 0.9972 - val_loss: 0.1458 - val_acc: 0.9588\n",
      "Epoch 10/15\n",
      "4361/4361 - 6s - loss: 0.0105 - acc: 0.9979 - val_loss: 0.1620 - val_acc: 0.9560\n",
      "Epoch 11/15\n",
      "4361/4361 - 5s - loss: 0.0072 - acc: 0.9989 - val_loss: 0.1568 - val_acc: 0.9606\n",
      "Epoch 12/15\n",
      "4361/4361 - 6s - loss: 0.0051 - acc: 0.9995 - val_loss: 0.1682 - val_acc: 0.9569\n",
      "Epoch 13/15\n",
      "4361/4361 - 6s - loss: 0.0039 - acc: 0.9998 - val_loss: 0.1709 - val_acc: 0.9615\n",
      "Epoch 14/15\n",
      "4361/4361 - 6s - loss: 0.0028 - acc: 1.0000 - val_loss: 0.1682 - val_acc: 0.9542\n",
      "Epoch 15/15\n",
      "4361/4361 - 5s - loss: 0.0023 - acc: 1.0000 - val_loss: 0.1917 - val_acc: 0.9578\n"
     ]
    }
   ],
   "source": [
    "num_epochs = 15\n",
    "history = model.fit((train_padded, training_category_seq), training_subcategory_seq, epochs = num_epochs, validation_data=((validation_padded, validation_category_seq), validation_subcategory_seq), verbose = 2)"
   ]
  },
  {
   "cell_type": "code",
   "execution_count": 28,
   "metadata": {},
   "outputs": [
    {
     "data": {
      "image/png": "[encoded data removed]",
      "text/plain": [
       "<Figure size 432x288 with 1 Axes>"
      ]
     },
     "metadata": {
      "needs_background": "light"
     },
     "output_type": "display_data"
    },
    {
     "data": {
      "image/png": "[encoded data removed]",
      "text/plain": [
       "<Figure size 432x288 with 1 Axes>"
      ]
     },
     "metadata": {
      "needs_background": "light"
     },
     "output_type": "display_data"
    }
   ],
   "source": [
    "import matplotlib.pyplot as plt\n",
    "\n",
    "def plot_graphs(history, string):\n",
    "  plt.plot(history.history[string])\n",
    "  plt.plot(history.history['val_'+string])\n",
    "  plt.xlabel(\"Epochs\")\n",
    "  plt.ylabel(string)\n",
    "  plt.legend([string, 'val_'+string])\n",
    "  plt.show()\n",
    "  \n",
    "plot_graphs(history, \"acc\")\n",
    "plot_graphs(history, \"loss\")"
   ]
  },
  {
   "cell_type": "code",
   "execution_count": null,
   "metadata": {},
   "outputs": [],
   "source": []
  },
  {
   "cell_type": "code",
   "execution_count": null,
   "metadata": {},
   "outputs": [],
   "source": []
  }
 ],
 "metadata": {
  "kernelspec": {
   "display_name": "Python 3",
   "language": "python",
   "name": "python3"
  },
  "language_info": {
   "codemirror_mode": {
    "name": "ipython",
    "version": 3
   },
   "file_extension": ".py",
   "mimetype": "text/x-python",
   "name": "python",
   "nbconvert_exporter": "python",
   "pygments_lexer": "ipython3",
   "version": "3.7.7"
  }
 },
 "nbformat": 4,
 "nbformat_minor": 4
}
