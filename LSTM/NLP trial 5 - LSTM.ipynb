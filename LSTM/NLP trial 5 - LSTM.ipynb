{
 "cells": [
  {
   "cell_type": "code",
   "execution_count": 1,
   "metadata": {},
   "outputs": [],
   "source": [
    "import tensorflow as tf\n",
    "from tensorflow import keras\n",
    "import pandas as pd\n",
    "import numpy as np\n",
    "from tensorflow.keras.preprocessing.text import Tokenizer\n",
    "from tensorflow.keras.preprocessing.sequence import pad_sequences"
   ]
  },
  {
   "cell_type": "code",
   "execution_count": 2,
   "metadata": {},
   "outputs": [],
   "source": [
    "vocab_size = 7000\n",
    "embedding_dim = 256\n",
    "max_length = 15\n",
    "trunc_type='post'\n",
    "padding_type='post'\n",
    "oov_tok = \"<OOV>\""
   ]
  },
  {
   "cell_type": "code",
   "execution_count": 3,
   "metadata": {},
   "outputs": [],
   "source": [
    "stopwords = [ \"a\", \"about\", \"above\", \"after\", \"again\", \"against\", \"all\", \"am\", \"an\", \"and\", \"any\", \"are\", \"as\", \"at\", \"be\", \"because\", \"been\", \"before\", \"being\", \"below\", \"between\", \"both\", \"but\", \"by\", \"could\", \"did\", \"do\", \"does\", \"doing\", \"down\", \"during\", \"each\", \"few\", \"for\", \"from\", \"further\", \"had\", \"has\", \"have\", \"having\", \"he\", \"he'd\", \"he'll\", \"he's\", \"her\", \"here\", \"here's\", \"hers\", \"herself\", \"him\", \"himself\", \"his\", \"i\", \"i'd\", \"i'll\", \"i'm\", \"i've\", \"if\", \"in\", \"into\", \"is\", \"it\", \"it's\", \"its\", \"itself\", \"let's\", \"me\", \"more\", \"most\", \"my\", \"myself\", \"nor\", \"of\", \"on\", \"once\", \"only\", \"or\", \"other\", \"ought\", \"our\", \"ours\", \"ourselves\", \"out\", \"over\", \"own\", \"same\", \"she\", \"she'd\", \"she'll\", \"she's\", \"should\", \"so\", \"some\", \"such\", \"than\", \"that\", \"that's\", \"the\", \"their\", \"theirs\", \"them\", \"themselves\", \"then\", \"there\", \"there's\", \"these\", \"they\", \"they'd\", \"they'll\", \"they're\", \"they've\", \"this\", \"those\", \"through\", \"to\", \"too\", \"under\", \"until\", \"up\", \"very\", \"was\", \"we\", \"we'd\", \"we'll\", \"we're\", \"we've\", \"were\", \"while\", \"with\", \"you\", \"you'd\", \"you'll\", \"you're\", \"you've\", \"your\", \"yours\", \"yourself\", \"yourselves\"]\n",
    "punctuations = '''!()-[]{};:'\"`\\,<>./?@#$%^&*_~\\n'''"
   ]
  },
  {
   "cell_type": "code",
   "execution_count": 4,
   "metadata": {},
   "outputs": [
    {
     "name": "stdout",
     "output_type": "stream",
     "text": [
      "DESC\n",
      "manner\n",
      "['How did serfdom develop in and then leave Russia ?\\n', 'What films featured the character Popeye Doyle ?\\n', \"How can I find a list of celebrities ' real names ?\\n\", 'What fowl grabs the spotlight after the Chinese Year of the Monkey ?\\n', 'What is the full form of .com ?\\n', 'What contemptible scoundrel stole the cork from my lunch ?\\n', \"What team did baseball 's St. Louis Browns become ?\\n\", 'What is the oldest profession ?\\n', 'What are liver enzymes ?\\n', 'Name the scar-faced bounty hunter of The Old West .\\n']\n"
     ]
    }
   ],
   "source": [
    "category = []\n",
    "subcategory = []\n",
    "questions = []\n",
    "\n",
    "with open('train_5500.label', 'r') as f:\n",
    "    for line in f:\n",
    "        split_index1 = line.index(\":\")\n",
    "        split_index2 = line.index(\" \")\n",
    "        category.append(line[:split_index1])\n",
    "        subcategory.append(line[split_index1+1:split_index2])\n",
    "        questions.append(line[(split_index2+1):])\n",
    "        \n",
    "print(category[0])\n",
    "print(subcategory[0])\n",
    "print(questions[0:10])"
   ]
  },
  {
   "cell_type": "code",
   "execution_count": 5,
   "metadata": {},
   "outputs": [
    {
     "name": "stdout",
     "output_type": "stream",
     "text": [
      "5452\n",
      "5452\n",
      "['how did serfdom develop in and then leave russia ', 'what films featured the character popeye doyle ', 'how can i find a list of celebrities real names ', 'what fowl grabs the spotlight after the chinese year of the monkey ', 'what is the full form of com ', 'what contemptible scoundrel stole the cork from my lunch ', 'what team did baseball s st louis browns become ', 'what is the oldest profession ', 'what are liver enzymes ', 'name the scarfaced bounty hunter of the old west ']\n"
     ]
    }
   ],
   "source": [
    "for i in range(0,len(questions)):\n",
    "    question = questions[i].lower()\n",
    "#     for word in stopwords:\n",
    "#         token = \" \" + word + \" \"\n",
    "#         question = question.replace(token, \" \")\n",
    "    no_punct = ''\n",
    "    for char in question:\n",
    "        if char not in punctuations:\n",
    "            no_punct = no_punct + char\n",
    "    no_punct = no_punct.replace(\"  \", \" \")\n",
    "    questions[i] = no_punct\n",
    "\n",
    "print(len(category))\n",
    "print(len(questions))\n",
    "print(questions[0:10])"
   ]
  },
  {
   "cell_type": "code",
   "execution_count": 6,
   "metadata": {},
   "outputs": [
    {
     "name": "stdout",
     "output_type": "stream",
     "text": [
      "NUM\n",
      "dist\n",
      "['How far is it from Denver to Aspen ?\\n', 'What county is Modesto , California in ?\\n', 'Who was Galileo ?\\n', 'What is an atom ?\\n', 'When did Hawaii become a state ?\\n', 'How tall is the Sears Building ?\\n', 'George Bush purchased a small interest in which baseball team ?\\n', \"What is Australia 's national flower ?\\n\", 'Why does the moon turn orange ?\\n', 'What is autism ?\\n']\n"
     ]
    }
   ],
   "source": [
    "test_category = []\n",
    "test_subcategory = []\n",
    "test_questions = []\n",
    "\n",
    "with open('TREC_10.label', 'r') as f:\n",
    "    for line in f:\n",
    "        split_index1 = line.index(\":\")\n",
    "        split_index2 = line.index(\" \")\n",
    "        test_category.append(line[:split_index1])\n",
    "        test_subcategory.append(line[split_index1+1:split_index2])\n",
    "        test_questions.append(line[(split_index2+1):])\n",
    "        \n",
    "print(test_category[0])\n",
    "print(test_subcategory[0])\n",
    "print(test_questions[0:10])"
   ]
  },
  {
   "cell_type": "code",
   "execution_count": 7,
   "metadata": {},
   "outputs": [
    {
     "name": "stdout",
     "output_type": "stream",
     "text": [
      "500\n",
      "500\n",
      "['how far is it from denver to aspen ', 'what county is modesto california in ', 'who was galileo ', 'what is an atom ', 'when did hawaii become a state ', 'how tall is the sears building ', 'george bush purchased a small interest in which baseball team ', 'what is australia s national flower ', 'why does the moon turn orange ', 'what is autism ']\n"
     ]
    }
   ],
   "source": [
    "for i in range(0,len(test_questions)):\n",
    "    test_question = test_questions[i].lower()\n",
    "#     for word in stopwords:\n",
    "#         token = \" \" + word + \" \"\n",
    "#         test_question = test_question.replace(token, \" \")\n",
    "    no_punct = ''\n",
    "    for char in test_question:\n",
    "        if char not in punctuations:\n",
    "            no_punct = no_punct + char\n",
    "    no_punct = no_punct.replace(\"  \", \" \")\n",
    "    test_questions[i] = no_punct\n",
    "\n",
    "print(len(test_category))\n",
    "print(len(test_questions))\n",
    "print(test_questions[0:10])"
   ]
  },
  {
   "cell_type": "code",
   "execution_count": null,
   "metadata": {},
   "outputs": [],
   "source": []
  },
  {
   "cell_type": "code",
   "execution_count": 8,
   "metadata": {},
   "outputs": [
    {
     "name": "stdout",
     "output_type": "stream",
     "text": [
      "5452\n",
      "5452\n",
      "500\n",
      "500\n"
     ]
    }
   ],
   "source": [
    "train_questions = questions\n",
    "train_category = category\n",
    "train_subcategory = subcategory\n",
    "\n",
    "validation_questions = test_questions\n",
    "validation_category = test_category\n",
    "validation_subcategory = test_subcategory\n",
    "\n",
    "print(len(train_questions))\n",
    "print(len(train_category))\n",
    "print(len(validation_questions))\n",
    "print(len(validation_category))"
   ]
  },
  {
   "cell_type": "code",
   "execution_count": 9,
   "metadata": {},
   "outputs": [
    {
     "name": "stdout",
     "output_type": "stream",
     "text": [
      "8605\n",
      "9\n",
      "15\n",
      "7\n",
      "15\n"
     ]
    }
   ],
   "source": [
    "tokenizer = Tokenizer(num_words = vocab_size, oov_token = oov_tok)\n",
    "tokenizer.fit_on_texts(train_questions)\n",
    "word_index = tokenizer.word_index\n",
    "print(len(word_index))\n",
    "\n",
    "train_sequences = tokenizer.texts_to_sequences(train_questions)\n",
    "train_padded = pad_sequences(train_sequences, padding=padding_type, maxlen=max_length, truncating=trunc_type)\n",
    "\n",
    "print(len(train_sequences[0]))\n",
    "print(len(train_padded[0]))\n",
    "\n",
    "print(len(train_sequences[1]))\n",
    "print(len(train_padded[1]))"
   ]
  },
  {
   "cell_type": "code",
   "execution_count": 10,
   "metadata": {},
   "outputs": [
    {
     "name": "stdout",
     "output_type": "stream",
     "text": [
      "500\n",
      "(500, 15)\n"
     ]
    }
   ],
   "source": [
    "validation_sequences = tokenizer.texts_to_sequences(validation_questions)\n",
    "validation_padded = pad_sequences(validation_sequences, padding=padding_type, maxlen=max_length, truncating=trunc_type)\n",
    "\n",
    "print(len(validation_sequences))\n",
    "print(validation_padded.shape)"
   ]
  },
  {
   "cell_type": "code",
   "execution_count": 11,
   "metadata": {},
   "outputs": [],
   "source": [
    "category_tokenizer = Tokenizer()\n",
    "category_tokenizer.fit_on_texts(category)\n",
    "category_word_index = category_tokenizer.word_index\n",
    "\n",
    "training_category_seq = pad_sequences(np.array(category_tokenizer.texts_to_sequences(train_category)), maxlen=1)\n",
    "validation_category_seq = pad_sequences(np.array(category_tokenizer.texts_to_sequences(validation_category)), maxlen=1)"
   ]
  },
  {
   "cell_type": "code",
   "execution_count": 32,
   "metadata": {},
   "outputs": [
    {
     "name": "stdout",
     "output_type": "stream",
     "text": [
      "Model: \"sequential_5\"\n",
      "_________________________________________________________________\n",
      "Layer (type)                 Output Shape              Param #   \n",
      "=================================================================\n",
      "embedding_5 (Embedding)      (None, 15, 256)           1792000   \n",
      "_________________________________________________________________\n",
      "dropout_7 (Dropout)          (None, 15, 256)           0         \n",
      "_________________________________________________________________\n",
      "gru_4 (GRU)                  (None, 15, 128)           148224    \n",
      "_________________________________________________________________\n",
      "lstm_5 (LSTM)                (None, 64)                49408     \n",
      "_________________________________________________________________\n",
      "dense_14 (Dense)             (None, 32)                2080      \n",
      "_________________________________________________________________\n",
      "dense_15 (Dense)             (None, 16)                528       \n",
      "_________________________________________________________________\n",
      "dense_16 (Dense)             (None, 7)                 119       \n",
      "=================================================================\n",
      "Total params: 1,992,359\n",
      "Trainable params: 1,992,359\n",
      "Non-trainable params: 0\n",
      "_________________________________________________________________\n"
     ]
    }
   ],
   "source": [
    "model = tf.keras.Sequential([\n",
    "    tf.keras.layers.Embedding(vocab_size, embedding_dim, input_length = max_length),\n",
    "    tf.keras.layers.Dropout(0.2),\n",
    "#     tf.keras.layers.Conv1D(128, 3, activation='relu'),\n",
    "#     tf.keras.layers.MaxPooling1D(pool_size=2),    \n",
    "#     tf.keras.layers.GlobalAveragePooling1D(),\n",
    "    tf.keras.layers.GRU(128, return_sequences=True),\n",
    "    tf.keras.layers.LSTM(64),\n",
    "#     tf.keras.layers.Dropout(0.2),\n",
    "#     gru+lstm over lstm+gru    \n",
    "#     tf.keras.layers.Dropout(0.2),   defn not with gru+lstm\n",
    "    tf.keras.layers.Dense(32, activation = 'relu'),\n",
    "    tf.keras.layers.Dense(16, activation = 'sigmoid'),\n",
    "    tf.keras.layers.Dense(7, activation = 'softmax')])\n",
    "\n",
    "model.compile(loss = 'sparse_categorical_crossentropy', optimizer = tf.keras.optimizers.Adam(lr=0.002), metrics=['acc'])\n",
    "model.summary()"
   ]
  },
  {
   "cell_type": "code",
   "execution_count": 33,
   "metadata": {
    "scrolled": false
   },
   "outputs": [
    {
     "name": "stdout",
     "output_type": "stream",
     "text": [
      "Train on 5452 samples, validate on 500 samples\n",
      "Epoch 1/20\n",
      "5452/5452 - 23s - loss: 1.4655 - acc: 0.3806 - val_loss: 1.1386 - val_acc: 0.4980\n",
      "Epoch 2/20\n",
      "5452/5452 - 10s - loss: 0.9824 - acc: 0.6137 - val_loss: 1.0023 - val_acc: 0.7100\n",
      "Epoch 3/20\n",
      "5452/5452 - 9s - loss: 0.6636 - acc: 0.8369 - val_loss: 0.6994 - val_acc: 0.8300\n",
      "Epoch 4/20\n",
      "5452/5452 - 10s - loss: 0.4475 - acc: 0.9000 - val_loss: 0.7665 - val_acc: 0.8060\n",
      "Epoch 5/20\n",
      "5452/5452 - 11s - loss: 0.3482 - acc: 0.9208 - val_loss: 0.7218 - val_acc: 0.8040\n",
      "Epoch 6/20\n",
      "5452/5452 - 11s - loss: 0.2690 - acc: 0.9420 - val_loss: 0.6535 - val_acc: 0.8380\n",
      "Epoch 7/20\n",
      "5452/5452 - 10s - loss: 0.2465 - acc: 0.9453 - val_loss: 0.6952 - val_acc: 0.8280\n",
      "Epoch 8/20\n",
      "5452/5452 - 10s - loss: 0.2008 - acc: 0.9573 - val_loss: 0.6941 - val_acc: 0.8280\n",
      "Epoch 9/20\n",
      "5452/5452 - 10s - loss: 0.1666 - acc: 0.9620 - val_loss: 0.6768 - val_acc: 0.8400\n",
      "Epoch 10/20\n",
      "5452/5452 - 11s - loss: 0.1407 - acc: 0.9674 - val_loss: 0.8201 - val_acc: 0.8260\n",
      "Epoch 11/20\n",
      "5452/5452 - 12s - loss: 0.1395 - acc: 0.9661 - val_loss: 0.7184 - val_acc: 0.8380\n",
      "Epoch 12/20\n",
      "5452/5452 - 14s - loss: 0.1296 - acc: 0.9725 - val_loss: 0.7821 - val_acc: 0.8420\n",
      "Epoch 13/20\n",
      "5452/5452 - 15s - loss: 0.1105 - acc: 0.9795 - val_loss: 0.7690 - val_acc: 0.8460\n",
      "Epoch 14/20\n",
      "5452/5452 - 17s - loss: 0.1018 - acc: 0.9804 - val_loss: 0.6937 - val_acc: 0.8580\n",
      "Epoch 15/20\n",
      "5452/5452 - 17s - loss: 0.0740 - acc: 0.9859 - val_loss: 0.7377 - val_acc: 0.8380\n",
      "Epoch 16/20\n",
      "5452/5452 - 15s - loss: 0.0745 - acc: 0.9868 - val_loss: 0.7379 - val_acc: 0.8420\n",
      "Epoch 17/20\n",
      "5452/5452 - 15s - loss: 0.0559 - acc: 0.9916 - val_loss: 0.7149 - val_acc: 0.8660\n",
      "Epoch 18/20\n",
      "5452/5452 - 16s - loss: 0.0531 - acc: 0.9908 - val_loss: 0.7339 - val_acc: 0.8540\n",
      "Epoch 19/20\n",
      "5452/5452 - 16s - loss: 0.0478 - acc: 0.9914 - val_loss: 0.7278 - val_acc: 0.8540\n",
      "Epoch 20/20\n",
      "5452/5452 - 16s - loss: 0.0476 - acc: 0.9919 - val_loss: 0.7474 - val_acc: 0.8660\n"
     ]
    }
   ],
   "source": [
    "num_epochs = 20\n",
    "history = model.fit(train_padded, training_category_seq, epochs = num_epochs, validation_data=(validation_padded, validation_category_seq), verbose = 2)"
   ]
  },
  {
   "cell_type": "code",
   "execution_count": 34,
   "metadata": {},
   "outputs": [
    {
     "data": {
      "image/png": "[encoded data removed]",
      "text/plain": [
       "<Figure size 432x288 with 1 Axes>"
      ]
     },
     "metadata": {
      "needs_background": "light"
     },
     "output_type": "display_data"
    },
    {
     "data": {
      "image/png": "[encoded data removed]",
      "text/plain": [
       "<Figure size 432x288 with 1 Axes>"
      ]
     },
     "metadata": {
      "needs_background": "light"
     },
     "output_type": "display_data"
    }
   ],
   "source": [
    "import matplotlib.pyplot as plt\n",
    "\n",
    "def plot_graphs(history, string):\n",
    "  plt.plot(history.history[string])\n",
    "  plt.plot(history.history['val_'+string])\n",
    "  plt.xlabel(\"Epochs\")\n",
    "  plt.ylabel(string)\n",
    "  plt.legend([string, 'val_'+string])\n",
    "  plt.show()\n",
    "  \n",
    "plot_graphs(history, \"acc\")\n",
    "plot_graphs(history, \"loss\")"
   ]
  },
  {
   "cell_type": "code",
   "execution_count": 35,
   "metadata": {
    "scrolled": false
   },
   "outputs": [
    {
     "name": "stdout",
     "output_type": "stream",
     "text": [
      "{'enty': 1, 'hum': 2, 'desc': 3, 'num': 4, 'loc': 5, 'abbr': 6}\n",
      "desc [3]\n",
      "desc [3]\n",
      "enty [1]\n",
      "num [4]\n",
      "num [4]\n",
      "hum [2]\n",
      "enty [1]\n",
      "num [4]\n",
      "enty [1]\n",
      "desc [3]\n",
      "[[3]\n",
      " [3]\n",
      " [1]\n",
      " [4]\n",
      " [4]\n",
      " [2]\n",
      " [1]\n",
      " [4]\n",
      " [1]\n",
      " [3]]\n",
      "['what is pectin ', 'what is biodiversity ', 'what s the easiest way to remove wallpaper ', 'what year did the titanic start on its journey ', 'how much of an apple is water ', 'who was the 22nd president of the us ', 'what is the money they use in zambia ', 'how many feet in a mile ', 'what is the birthstone of october ', 'what is ecoli ']\n"
     ]
    }
   ],
   "source": [
    "print(category_word_index)\n",
    "prediction = (model.predict(validation_padded[-10:]))\n",
    "for i in prediction:\n",
    "#     x = i.find(max(i))\n",
    "    x = (np.where(i == np.amax(i)))[0]\n",
    "#     print(x)\n",
    "    for a in category_word_index:\n",
    "        if category_word_index[a] == x:\n",
    "            print(a, x)\n",
    "            \n",
    "    \n",
    "print(validation_category_seq[-10:])\n",
    "print(validation_questions[-10:])"
   ]
  },
  {
   "cell_type": "code",
   "execution_count": null,
   "metadata": {},
   "outputs": [],
   "source": []
  },
  {
   "cell_type": "code",
   "execution_count": null,
   "metadata": {},
   "outputs": [],
   "source": []
  },
  {
   "cell_type": "code",
   "execution_count": 36,
   "metadata": {},
   "outputs": [
    {
     "name": "stdout",
     "output_type": "stream",
     "text": [
      "{'ind': 1, 'other': 2, 'def': 3, 'count': 4, 'desc': 5, 'manner': 6, 'date': 7, 'cremat': 8, 'reason': 9, 'gr': 10, 'country': 11, 'city': 12, 'animal': 13, 'food': 14, 'dismed': 15, 'termeq': 16, 'period': 17, 'money': 18, 'exp': 19, 'state': 20, 'sport': 21, 'event': 22, 'product': 23, 'substance': 24, 'color': 25, 'techmeth': 26, 'dist': 27, 'perc': 28, 'veh': 29, 'word': 30, 'title': 31, 'mount': 32, 'body': 33, 'abb': 34, 'lang': 35, 'plant': 36, 'volsize': 37, 'symbol': 38, 'weight': 39, 'instru': 40, 'letter': 41, 'speed': 42, 'code': 43, 'temp': 44, 'ord': 45, 'religion': 46, 'currency': 47}\n"
     ]
    }
   ],
   "source": [
    "subcategory_tokenizer = Tokenizer()\n",
    "subcategory_tokenizer.fit_on_texts(subcategory)\n",
    "subcategory_word_index = subcategory_tokenizer.word_index\n",
    "print(subcategory_word_index)\n",
    "\n",
    "training_subcategory_seq = pad_sequences(np.array(subcategory_tokenizer.texts_to_sequences(train_subcategory)), maxlen=1)\n",
    "validation_subcategory_seq = pad_sequences(np.array(subcategory_tokenizer.texts_to_sequences(validation_subcategory)), maxlen=1)"
   ]
  },
  {
   "cell_type": "code",
   "execution_count": 41,
   "metadata": {
    "scrolled": false
   },
   "outputs": [
    {
     "name": "stdout",
     "output_type": "stream",
     "text": [
      "Model: \"sequential_7\"\n",
      "_________________________________________________________________\n",
      "Layer (type)                 Output Shape              Param #   \n",
      "=================================================================\n",
      "embedding_7 (Embedding)      (None, 15, 256)           1792000   \n",
      "_________________________________________________________________\n",
      "dropout_9 (Dropout)          (None, 15, 256)           0         \n",
      "_________________________________________________________________\n",
      "bidirectional_4 (Bidirection (None, 15, 192)           203904    \n",
      "_________________________________________________________________\n",
      "bidirectional_5 (Bidirection (None, 128)               131584    \n",
      "_________________________________________________________________\n",
      "dense_19 (Dense)             (None, 64)                8256      \n",
      "_________________________________________________________________\n",
      "dense_20 (Dense)             (None, 48)                3120      \n",
      "=================================================================\n",
      "Total params: 2,138,864\n",
      "Trainable params: 2,138,864\n",
      "Non-trainable params: 0\n",
      "_________________________________________________________________\n"
     ]
    }
   ],
   "source": [
    "model1 = tf.keras.Sequential([\n",
    "    tf.keras.layers.Embedding(vocab_size, embedding_dim, input_length = max_length),\n",
    "    tf.keras.layers.Dropout(0.2),\n",
    "    tf.keras.layers.Bidirectional(tf.keras.layers.GRU(96, return_sequences=True)),\n",
    "    tf.keras.layers.Bidirectional(tf.keras.layers.LSTM(64)),\n",
    "    #gru+lstm >> lstm+lstm but loss is still a problem\n",
    "    #graph smoothened with lr=0.002\n",
    "    \n",
    "#     tf.keras.layers.Dropout(0.2),\n",
    "#     tf.keras.layers.GlobalAveragePooling1D(),\n",
    "#     tf.keras.layers.Dense(120, activation = 'relu'),\n",
    "    tf.keras.layers.Dense(64, activation = 'sigmoid'),\n",
    "    tf.keras.layers.Dense(48, activation = 'softmax')\n",
    "])\n",
    "\n",
    "model1.compile(loss = 'sparse_categorical_crossentropy', optimizer = tf.keras.optimizers.Adam(lr=0.003), metrics=['acc'])\n",
    "model1.summary()"
   ]
  },
  {
   "cell_type": "code",
   "execution_count": 42,
   "metadata": {
    "scrolled": false
   },
   "outputs": [
    {
     "name": "stdout",
     "output_type": "stream",
     "text": [
      "Train on 5452 samples, validate on 490 samples\n",
      "Epoch 1/20\n",
      "5452/5452 - 425s - loss: 2.5193 - acc: 0.3696 - val_loss: 2.0339 - val_acc: 0.5898\n",
      "Epoch 2/20\n",
      "5452/5452 - 26s - loss: 1.6099 - acc: 0.5992 - val_loss: 1.6107 - val_acc: 0.6347\n",
      "Epoch 3/20\n",
      "5452/5452 - 21s - loss: 1.0986 - acc: 0.7241 - val_loss: 1.4512 - val_acc: 0.6510\n",
      "Epoch 4/20\n",
      "5452/5452 - 22s - loss: 0.7607 - acc: 0.8063 - val_loss: 1.3533 - val_acc: 0.6714\n",
      "Epoch 5/20\n",
      "5452/5452 - 22s - loss: 0.5576 - acc: 0.8591 - val_loss: 1.3453 - val_acc: 0.7082\n",
      "Epoch 6/20\n",
      "5452/5452 - 22s - loss: 0.4100 - acc: 0.8984 - val_loss: 1.2796 - val_acc: 0.7102\n",
      "Epoch 7/20\n",
      "5452/5452 - 22s - loss: 0.2867 - acc: 0.9303 - val_loss: 1.3524 - val_acc: 0.7204\n",
      "Epoch 8/20\n",
      "5452/5452 - 24s - loss: 0.2092 - acc: 0.9488 - val_loss: 1.3183 - val_acc: 0.7408\n",
      "Epoch 9/20\n",
      "5452/5452 - 23s - loss: 0.1663 - acc: 0.9622 - val_loss: 1.3574 - val_acc: 0.7531\n",
      "Epoch 10/20\n",
      "5452/5452 - 22s - loss: 0.1226 - acc: 0.9740 - val_loss: 1.3815 - val_acc: 0.7592\n",
      "Epoch 11/20\n",
      "5452/5452 - 22s - loss: 0.0876 - acc: 0.9824 - val_loss: 1.4759 - val_acc: 0.7694\n",
      "Epoch 12/20\n",
      "5452/5452 - 22s - loss: 0.0720 - acc: 0.9861 - val_loss: 1.5137 - val_acc: 0.7633\n",
      "Epoch 13/20\n",
      "5452/5452 - 23s - loss: 0.0571 - acc: 0.9901 - val_loss: 1.4327 - val_acc: 0.7714\n",
      "Epoch 14/20\n",
      "5452/5452 - 22s - loss: 0.0390 - acc: 0.9943 - val_loss: 1.4334 - val_acc: 0.7735\n",
      "Epoch 15/20\n",
      "5452/5452 - 22s - loss: 0.0311 - acc: 0.9960 - val_loss: 1.5120 - val_acc: 0.7612\n",
      "Epoch 16/20\n",
      "5452/5452 - 24s - loss: 0.0297 - acc: 0.9941 - val_loss: 1.4606 - val_acc: 0.7694\n",
      "Epoch 17/20\n",
      "5452/5452 - 23s - loss: 0.0342 - acc: 0.9925 - val_loss: 1.5314 - val_acc: 0.7694\n",
      "Epoch 18/20\n",
      "5452/5452 - 23s - loss: 0.0279 - acc: 0.9941 - val_loss: 1.6265 - val_acc: 0.7490\n",
      "Epoch 19/20\n",
      "5452/5452 - 23s - loss: 0.0271 - acc: 0.9939 - val_loss: 1.6026 - val_acc: 0.7714\n",
      "Epoch 20/20\n",
      "5452/5452 - 22s - loss: 0.0209 - acc: 0.9960 - val_loss: 1.5949 - val_acc: 0.7612\n"
     ]
    }
   ],
   "source": [
    "num_epochs = 20\n",
    "history1 = model1.fit((train_padded, training_category_seq), training_subcategory_seq, epochs = num_epochs, validation_data=((validation_padded[:-10], validation_category_seq[:-10]), validation_subcategory_seq[:-10]), verbose = 2)"
   ]
  },
  {
   "cell_type": "code",
   "execution_count": 43,
   "metadata": {},
   "outputs": [
    {
     "data": {
      "image/png": "[encoded data removed]",
      "text/plain": [
       "<Figure size 432x288 with 1 Axes>"
      ]
     },
     "metadata": {
      "needs_background": "light"
     },
     "output_type": "display_data"
    },
    {
     "data": {
      "image/png": "[encoded data removed]",
      "text/plain": [
       "<Figure size 432x288 with 1 Axes>"
      ]
     },
     "metadata": {
      "needs_background": "light"
     },
     "output_type": "display_data"
    }
   ],
   "source": [
    "import matplotlib.pyplot as plt\n",
    "\n",
    "def plot_graphs(history, string):\n",
    "  plt.plot(history.history[string])\n",
    "  plt.plot(history.history['val_'+string])\n",
    "  plt.xlabel(\"Epochs\")\n",
    "  plt.ylabel(string)\n",
    "  plt.legend([string, 'val_'+string])\n",
    "  plt.show()\n",
    "  \n",
    "plot_graphs(history1, \"acc\")\n",
    "plot_graphs(history1, \"loss\")"
   ]
  },
  {
   "cell_type": "code",
   "execution_count": null,
   "metadata": {},
   "outputs": [
    {
     "name": "stdout",
     "output_type": "stream",
     "text": [
      "{'ind': 1, 'other': 2, 'def': 3, 'count': 4, 'desc': 5, 'manner': 6, 'date': 7, 'cremat': 8, 'reason': 9, 'gr': 10, 'country': 11, 'city': 12, 'animal': 13, 'food': 14, 'dismed': 15, 'termeq': 16, 'period': 17, 'money': 18, 'exp': 19, 'state': 20, 'sport': 21, 'event': 22, 'product': 23, 'substance': 24, 'color': 25, 'techmeth': 26, 'dist': 27, 'perc': 28, 'veh': 29, 'word': 30, 'title': 31, 'mount': 32, 'body': 33, 'abb': 34, 'lang': 35, 'plant': 36, 'volsize': 37, 'symbol': 38, 'weight': 39, 'instru': 40, 'letter': 41, 'speed': 42, 'code': 43, 'temp': 44, 'ord': 45, 'religion': 46, 'currency': 47}\n"
     ]
    }
   ],
   "source": [
    "print(subcategory_word_index)\n",
    "prediction = (model1.predict((validation_padded[-10:], validation_category_seq[:-10])))\n",
    "for i in prediction:\n",
    "    x = (np.where(i == np.amax(i)))[0]\n",
    "    print(x)\n",
    "    for a in subcategory_word_index:\n",
    "        if subcategory_word_index[a] == x:\n",
    "            print(a)\n",
    "    \n",
    "print(validation_subcategory_seq[-10:])\n",
    "print(validation_questions[-10:])"
   ]
  },
  {
   "cell_type": "code",
   "execution_count": null,
   "metadata": {},
   "outputs": [],
   "source": []
  }
 ],
 "metadata": {
  "kernelspec": {
   "display_name": "Python 3",
   "language": "python",
   "name": "python3"
  },
  "language_info": {
   "codemirror_mode": {
    "name": "ipython",
    "version": 3
   },
   "file_extension": ".py",
   "mimetype": "text/x-python",
   "name": "python",
   "nbconvert_exporter": "python",
   "pygments_lexer": "ipython3",
   "version": "3.7.7"
  }
 },
 "nbformat": 4,
 "nbformat_minor": 4
}
