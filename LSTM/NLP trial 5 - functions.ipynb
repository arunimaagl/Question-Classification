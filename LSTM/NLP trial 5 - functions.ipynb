{
 "cells": [
  {
   "cell_type": "code",
   "execution_count": 1,
   "metadata": {},
   "outputs": [],
   "source": [
    "import tensorflow as tf\n",
    "from tensorflow import keras\n",
    "import pandas as pd\n",
    "import numpy as np\n",
    "from tensorflow.keras.preprocessing.text import Tokenizer\n",
    "from tensorflow.keras.preprocessing.sequence import pad_sequences\n",
    "import matplotlib.pyplot as plt"
   ]
  },
  {
   "cell_type": "code",
   "execution_count": 2,
   "metadata": {},
   "outputs": [],
   "source": [
    "def plot_graphs(history, string):\n",
    "      plt.plot(history.history[string])\n",
    "      plt.plot(history.history['val_'+string])\n",
    "      plt.xlabel(\"Epochs\")\n",
    "      plt.ylabel(string)\n",
    "      plt.legend([string, 'val_'+string])\n",
    "      plt.show()"
   ]
  },
  {
   "cell_type": "code",
   "execution_count": 3,
   "metadata": {},
   "outputs": [],
   "source": [
    "def category_predict(quest):\n",
    "    vocab_size = 7000\n",
    "    embedding_dim = 256\n",
    "    max_length = 15\n",
    "    trunc_type='post'\n",
    "    padding_type='post'\n",
    "    oov_tok = \"<OOV>\"\n",
    "    \n",
    "    stopwords = [ \"a\", \"about\", \"above\", \"after\", \"again\", \"against\", \"all\", \"am\", \"an\", \"and\", \"any\", \"are\", \"as\", \"at\", \"be\", \"because\", \"been\", \"before\", \"being\", \"below\", \"between\", \"both\", \"but\", \"by\", \"could\", \"did\", \"do\", \"does\", \"doing\", \"down\", \"during\", \"each\", \"few\", \"for\", \"from\", \"further\", \"had\", \"has\", \"have\", \"having\", \"he\", \"he'd\", \"he'll\", \"he's\", \"her\", \"here\", \"here's\", \"hers\", \"herself\", \"him\", \"himself\", \"his\", \"i\", \"i'd\", \"i'll\", \"i'm\", \"i've\", \"if\", \"in\", \"into\", \"is\", \"it\", \"it's\", \"its\", \"itself\", \"let's\", \"me\", \"more\", \"most\", \"my\", \"myself\", \"nor\", \"of\", \"on\", \"once\", \"only\", \"or\", \"other\", \"ought\", \"our\", \"ours\", \"ourselves\", \"out\", \"over\", \"own\", \"same\", \"she\", \"she'd\", \"she'll\", \"she's\", \"should\", \"so\", \"some\", \"such\", \"than\", \"that\", \"that's\", \"the\", \"their\", \"theirs\", \"them\", \"themselves\", \"then\", \"there\", \"there's\", \"these\", \"they\", \"they'd\", \"they'll\", \"they're\", \"they've\", \"this\", \"those\", \"through\", \"to\", \"too\", \"under\", \"until\", \"up\", \"very\", \"was\", \"we\", \"we'd\", \"we'll\", \"we're\", \"we've\", \"were\", \"while\", \"with\", \"you\", \"you'd\", \"you'll\", \"you're\", \"you've\", \"your\", \"yours\", \"yourself\", \"yourselves\"]\n",
    "    punctuations = '''!()-[]{};:'\"`\\,<>./?@#$%^&*_~\\n'''\n",
    "    \n",
    "    train_category = []\n",
    "    train_subcategory = []\n",
    "    train_questions = []\n",
    "\n",
    "    with open('train_5500.label', 'r') as f:\n",
    "        for line in f:\n",
    "            split_index1 = line.index(\":\")\n",
    "            split_index2 = line.index(\" \")\n",
    "            train_category.append(line[:split_index1])\n",
    "            train_subcategory.append(line[split_index1+1:split_index2])\n",
    "            train_questions.append(line[(split_index2+1):])\n",
    "            \n",
    "    for i in range(0,len(train_questions)):\n",
    "        train_question = train_questions[i].lower()\n",
    "    #     for word in stopwords:\n",
    "    #         token = \" \" + word + \" \"\n",
    "    #         train_question = train_question.replace(token, \" \")\n",
    "        no_punct = ''\n",
    "        for char in train_question:\n",
    "            if char not in punctuations:\n",
    "                no_punct = no_punct + char\n",
    "        no_punct = no_punct.replace(\"  \", \" \")\n",
    "        train_questions[i] = no_punct\n",
    "    \n",
    "    test_category = []\n",
    "    test_subcategory = []\n",
    "    test_questions = []\n",
    "\n",
    "    with open('TREC_10.label', 'r') as f:\n",
    "        for line in f:\n",
    "            split_index1 = line.index(\":\")\n",
    "            split_index2 = line.index(\" \")\n",
    "            test_category.append(line[:split_index1])\n",
    "            test_subcategory.append(line[split_index1+1:split_index2])\n",
    "            test_questions.append(line[(split_index2+1):])\n",
    "    \n",
    "    for i in range(0,len(test_questions)):\n",
    "        test_question = test_questions[i].lower()\n",
    "    #     for word in stopwords:\n",
    "    #         token = \" \" + word + \" \"\n",
    "    #         test_question = test_question.replace(token, \" \")\n",
    "        no_punct = ''\n",
    "        for char in test_question:\n",
    "            if char not in punctuations:\n",
    "                no_punct = no_punct + char\n",
    "        no_punct = no_punct.replace(\"  \", \" \")\n",
    "        test_questions[i] = no_punct\n",
    "\n",
    "    ques=[]\n",
    "    for i in range(0,len(quest)):\n",
    "        ques1 = quest[i].lower()\n",
    "#     for word in stopwords:\n",
    "    #         token = \" \" + word + \" \"\n",
    "    #         ques = ques.replace(token, \" \")\n",
    "        no_punct = ''\n",
    "        for char in ques1:\n",
    "            if char not in punctuations:\n",
    "                no_punct = no_punct + char\n",
    "        no_punct = no_punct.replace(\"  \", \" \")\n",
    "        ques.append(no_punct)\n",
    "    \n",
    "    tokenizer = Tokenizer(num_words = vocab_size, oov_token = oov_tok)\n",
    "    tokenizer.fit_on_texts(train_questions)\n",
    "    word_index = tokenizer.word_index\n",
    "#     print(word_index)\n",
    "\n",
    "    train_sequences = tokenizer.texts_to_sequences(train_questions)\n",
    "    train_padded = pad_sequences(train_sequences, padding=padding_type, maxlen=max_length, truncating=trunc_type)\n",
    "    \n",
    "    test_sequences = tokenizer.texts_to_sequences(test_questions)\n",
    "    test_padded = pad_sequences(test_sequences, padding=padding_type, maxlen=max_length, truncating=trunc_type)\n",
    "#     print(test_sequences)\n",
    "    \n",
    "    ques_sequences = tokenizer.texts_to_sequences(ques)\n",
    "    ques_padded = pad_sequences(ques_sequences, padding=padding_type, maxlen=max_length, truncating=trunc_type)\n",
    "    \n",
    "    category_tokenizer = Tokenizer()\n",
    "    category_tokenizer.fit_on_texts(train_category)\n",
    "    category_word_index = category_tokenizer.word_index\n",
    "\n",
    "    train_category_seq = pad_sequences(np.array(category_tokenizer.texts_to_sequences(train_category)), maxlen=1)\n",
    "    test_category_seq = pad_sequences(np.array(category_tokenizer.texts_to_sequences(test_category)), maxlen=1)\n",
    "    \n",
    "    model = tf.keras.Sequential([\n",
    "        tf.keras.layers.Embedding(vocab_size, embedding_dim, input_length = max_length),\n",
    "        tf.keras.layers.Dropout(0.2),\n",
    "        tf.keras.layers.Bidirectional(tf.keras.layers.LSTM(64, return_sequences=True)),\n",
    "        tf.keras.layers.Bidirectional(tf.keras.layers.LSTM(32)),\n",
    "        tf.keras.layers.Dense(64, activation = 'relu'),\n",
    "        tf.keras.layers.Dense(32, activation = 'sigmoid'),\n",
    "        tf.keras.layers.Dense(7, activation = 'softmax')])\n",
    "\n",
    "    model.compile(loss = 'sparse_categorical_crossentropy', optimizer = tf.keras.optimizers.Adam(lr=0.002), metrics=['acc'])\n",
    "    #model.summary()\n",
    "    \n",
    "    num_epochs = 10\n",
    "    history = model.fit(train_padded, train_category_seq, epochs = num_epochs, validation_data=(test_padded, test_category_seq), verbose = 2)\n",
    "\n",
    "    plot_graphs(history, \"acc\")\n",
    "    plot_graphs(history, \"loss\")\n",
    "    \n",
    "    prediction = model.predict(ques_padded)\n",
    "    print(ques)\n",
    "#     print(ques_sequences)\n",
    "#     print(ques_padded)\n",
    "#     print(prediction)\n",
    "#     print(category_word_index)\n",
    "    for i in prediction:\n",
    "#     x = i.find(max(i))\n",
    "        x = (np.where(i == np.amax(i)))[0]\n",
    "    #     print(x)\n",
    "        for a in category_word_index:\n",
    "            if category_word_index[a] == x:\n",
    "                print(a)"
   ]
  },
  {
   "cell_type": "code",
   "execution_count": 33,
   "metadata": {
    "scrolled": false
   },
   "outputs": [
    {
     "name": "stdout",
     "output_type": "stream",
     "text": [
      "Train on 5452 samples, validate on 500 samples\n",
      "Epoch 1/10\n",
      "5452/5452 - 43s - loss: 1.1388 - acc: 0.5666 - val_loss: 0.5821 - val_acc: 0.8500\n",
      "Epoch 2/10\n",
      "5452/5452 - 19s - loss: 0.4662 - acc: 0.8668 - val_loss: 0.4847 - val_acc: 0.8600\n",
      "Epoch 3/10\n",
      "5452/5452 - 18s - loss: 0.2706 - acc: 0.9287 - val_loss: 0.5711 - val_acc: 0.8340\n",
      "Epoch 4/10\n",
      "5452/5452 - 18s - loss: 0.1622 - acc: 0.9580 - val_loss: 0.5478 - val_acc: 0.8540\n",
      "Epoch 5/10\n",
      "5452/5452 - 18s - loss: 0.1050 - acc: 0.9756 - val_loss: 0.4767 - val_acc: 0.8660\n",
      "Epoch 6/10\n",
      "5452/5452 - 19s - loss: 0.0845 - acc: 0.9824 - val_loss: 0.4811 - val_acc: 0.8680\n",
      "Epoch 7/10\n",
      "5452/5452 - 18s - loss: 0.0651 - acc: 0.9877 - val_loss: 0.5943 - val_acc: 0.8560\n",
      "Epoch 8/10\n",
      "5452/5452 - 18s - loss: 0.0688 - acc: 0.9851 - val_loss: 0.5734 - val_acc: 0.8640\n",
      "Epoch 9/10\n",
      "5452/5452 - 19s - loss: 0.0530 - acc: 0.9881 - val_loss: 0.6303 - val_acc: 0.8620\n",
      "Epoch 10/10\n",
      "5452/5452 - 24s - loss: 0.0396 - acc: 0.9905 - val_loss: 0.5919 - val_acc: 0.8720\n"
     ]
    },
    {
     "data": {
      "image/png": "[encoded data removed]",
      "text/plain": [
       "<Figure size 432x288 with 1 Axes>"
      ]
     },
     "metadata": {
      "needs_background": "light"
     },
     "output_type": "display_data"
    },
    {
     "data": {
      "image/png": "[encoded data removed]",
      "text/plain": [
       "<Figure size 432x288 with 1 Axes>"
      ]
     },
     "metadata": {
      "needs_background": "light"
     },
     "output_type": "display_data"
    },
    {
     "name": "stdout",
     "output_type": "stream",
     "text": [
      "['who was bill gates ', 'where is mumbai located ', 'what is schrodinger s cat ', 'can earth be a planet ', 'how long does it take to dance ']\n",
      "hum\n",
      "loc\n",
      "desc\n",
      "desc\n",
      "num\n"
     ]
    }
   ],
   "source": [
    "category_predict([\"Who was Bill Gates ?\", \"Where is Mumbai located ?\", \"What is Schrodinger 's cat ?\", \"Can earth be a planet ?\", \"How long does it take to dance ?\"])"
   ]
  },
  {
   "cell_type": "code",
   "execution_count": null,
   "metadata": {},
   "outputs": [],
   "source": []
  },
  {
   "cell_type": "code",
   "execution_count": 15,
   "metadata": {
    "scrolled": true
   },
   "outputs": [
    {
     "name": "stdout",
     "output_type": "stream",
     "text": [
      "{'enty': 1, 'hum': 2, 'desc': 3, 'num': 4, 'loc': 5, 'abbr': 6}\n",
      "desc\n",
      "desc\n",
      "enty\n",
      "num\n",
      "num\n",
      "hum\n",
      "enty\n",
      "num\n",
      "desc\n",
      "desc\n",
      "['what is pectin ', 'what is biodiversity ', 'what s the easiest way to remove wallpaper ', 'what year did the titanic start on its journey ', 'how much of an apple is water ', 'who was the 22nd president of the us ', 'what is the money they use in zambia ', 'how many feet in a mile ', 'what is the birthstone of october ', 'what is ecoli ']\n"
     ]
    }
   ],
   "source": [
    "print(category_word_index)\n",
    "prediction = (model.predict(validation_padded[-10:]))\n",
    "for i in prediction:\n",
    "#     x = i.find(max(i))\n",
    "    x = (np.where(i == np.amax(i)))[0]\n",
    "#     print(x)\n",
    "    for a in category_word_index:\n",
    "        if category_word_index[a] == x:\n",
    "            print(a)\n",
    "    \n",
    "# print(validation_category_seq[-10:])\n",
    "print(validation_questions[-10:])"
   ]
  },
  {
   "cell_type": "code",
   "execution_count": null,
   "metadata": {},
   "outputs": [],
   "source": []
  },
  {
   "cell_type": "code",
   "execution_count": 4,
   "metadata": {},
   "outputs": [
    {
     "ename": "NameError",
     "evalue": "name 'subcategory' is not defined",
     "output_type": "error",
     "traceback": [
      "\u001b[1;31m---------------------------------------------------------------------------\u001b[0m",
      "\u001b[1;31mNameError\u001b[0m                                 Traceback (most recent call last)",
      "\u001b[1;32m<ipython-input-4-0d5d301b44e3>\u001b[0m in \u001b[0;36m<module>\u001b[1;34m\u001b[0m\n\u001b[0;32m      1\u001b[0m \u001b[0msubcategory_tokenizer\u001b[0m \u001b[1;33m=\u001b[0m \u001b[0mTokenizer\u001b[0m\u001b[1;33m(\u001b[0m\u001b[1;33m)\u001b[0m\u001b[1;33m\u001b[0m\u001b[1;33m\u001b[0m\u001b[0m\n\u001b[1;32m----> 2\u001b[1;33m \u001b[0msubcategory_tokenizer\u001b[0m\u001b[1;33m.\u001b[0m\u001b[0mfit_on_texts\u001b[0m\u001b[1;33m(\u001b[0m\u001b[0msubcategory\u001b[0m\u001b[1;33m)\u001b[0m\u001b[1;33m\u001b[0m\u001b[1;33m\u001b[0m\u001b[0m\n\u001b[0m\u001b[0;32m      3\u001b[0m \u001b[0msubcategory_word_index\u001b[0m \u001b[1;33m=\u001b[0m \u001b[0msubcategory_tokenizer\u001b[0m\u001b[1;33m.\u001b[0m\u001b[0mword_index\u001b[0m\u001b[1;33m\u001b[0m\u001b[1;33m\u001b[0m\u001b[0m\n\u001b[0;32m      4\u001b[0m \u001b[0mprint\u001b[0m\u001b[1;33m(\u001b[0m\u001b[0msubcategory_word_index\u001b[0m\u001b[1;33m)\u001b[0m\u001b[1;33m\u001b[0m\u001b[1;33m\u001b[0m\u001b[0m\n\u001b[0;32m      5\u001b[0m \u001b[1;33m\u001b[0m\u001b[0m\n",
      "\u001b[1;31mNameError\u001b[0m: name 'subcategory' is not defined"
     ]
    }
   ],
   "source": [
    "subcategory_tokenizer = Tokenizer()\n",
    "subcategory_tokenizer.fit_on_texts(subcategory)\n",
    "subcategory_word_index = subcategory_tokenizer.word_index\n",
    "print(subcategory_word_index)\n",
    "\n",
    "training_subcategory_seq = pad_sequences(np.array(subcategory_tokenizer.texts_to_sequences(train_subcategory)), maxlen=1)\n",
    "validation_subcategory_seq = pad_sequences(np.array(subcategory_tokenizer.texts_to_sequences(validation_subcategory)), maxlen=1)"
   ]
  },
  {
   "cell_type": "code",
   "execution_count": 18,
   "metadata": {
    "scrolled": false
   },
   "outputs": [
    {
     "name": "stdout",
     "output_type": "stream",
     "text": [
      "Model: \"sequential_2\"\n",
      "_________________________________________________________________\n",
      "Layer (type)                 Output Shape              Param #   \n",
      "=================================================================\n",
      "embedding_2 (Embedding)      (None, 15, 256)           1792000   \n",
      "_________________________________________________________________\n",
      "dropout_2 (Dropout)          (None, 15, 256)           0         \n",
      "_________________________________________________________________\n",
      "bidirectional_4 (Bidirection (None, 15, 192)           271104    \n",
      "_________________________________________________________________\n",
      "bidirectional_5 (Bidirection (None, 128)               131584    \n",
      "_________________________________________________________________\n",
      "dense_5 (Dense)              (None, 64)                8256      \n",
      "_________________________________________________________________\n",
      "dense_6 (Dense)              (None, 48)                3120      \n",
      "=================================================================\n",
      "Total params: 2,206,064\n",
      "Trainable params: 2,206,064\n",
      "Non-trainable params: 0\n",
      "_________________________________________________________________\n"
     ]
    }
   ],
   "source": [
    "model1 = tf.keras.Sequential([\n",
    "    tf.keras.layers.Embedding(vocab_size, embedding_dim, input_length = max_length),\n",
    "    tf.keras.layers.Dropout(0.2),\n",
    "    tf.keras.layers.Bidirectional(tf.keras.layers.LSTM(96, return_sequences=True)),\n",
    "    tf.keras.layers.Bidirectional(tf.keras.layers.LSTM(64)),\n",
    "#     tf.keras.layers.Dropout(0.2),\n",
    "#     tf.keras.layers.GlobalAveragePooling1D(),\n",
    "#     tf.keras.layers.Dense(120, activation = 'relu'),\n",
    "    tf.keras.layers.Dense(64, activation = 'sigmoid'),\n",
    "    tf.keras.layers.Dense(48, activation = 'softmax')\n",
    "])\n",
    "\n",
    "model1.compile(loss = 'sparse_categorical_crossentropy', optimizer = 'adam', metrics=['acc'])\n",
    "model1.summary()"
   ]
  },
  {
   "cell_type": "code",
   "execution_count": 19,
   "metadata": {
    "scrolled": false
   },
   "outputs": [
    {
     "name": "stdout",
     "output_type": "stream",
     "text": [
      "Train on 5452 samples, validate on 490 samples\n",
      "Epoch 1/20\n",
      "5452/5452 - 23s - loss: 3.0132 - acc: 0.2177 - val_loss: 2.7058 - val_acc: 0.2633\n",
      "Epoch 2/20\n",
      "5452/5452 - 15s - loss: 2.2234 - acc: 0.4110 - val_loss: 2.3311 - val_acc: 0.2857\n",
      "Epoch 3/20\n",
      "5452/5452 - 14s - loss: 1.8277 - acc: 0.5061 - val_loss: 2.1588 - val_acc: 0.3755\n",
      "Epoch 4/20\n",
      "5452/5452 - 14s - loss: 1.5671 - acc: 0.5941 - val_loss: 1.9549 - val_acc: 0.5347\n",
      "Epoch 5/20\n",
      "5452/5452 - 14s - loss: 1.3220 - acc: 0.6640 - val_loss: 1.7710 - val_acc: 0.5918\n",
      "Epoch 6/20\n",
      "5452/5452 - 13s - loss: 1.1283 - acc: 0.7045 - val_loss: 1.7105 - val_acc: 0.6020\n",
      "Epoch 7/20\n",
      "5452/5452 - 13s - loss: 0.9453 - acc: 0.7599 - val_loss: 1.6872 - val_acc: 0.6245\n",
      "Epoch 8/20\n",
      "5452/5452 - 13s - loss: 0.8411 - acc: 0.7825 - val_loss: 1.6388 - val_acc: 0.6714\n",
      "Epoch 9/20\n",
      "5452/5452 - 13s - loss: 0.7262 - acc: 0.8168 - val_loss: 1.6231 - val_acc: 0.6490\n",
      "Epoch 10/20\n",
      "5452/5452 - 13s - loss: 0.6335 - acc: 0.8430 - val_loss: 1.6499 - val_acc: 0.6510\n",
      "Epoch 11/20\n",
      "5452/5452 - 16s - loss: 0.5610 - acc: 0.8529 - val_loss: 1.6170 - val_acc: 0.6612\n",
      "Epoch 12/20\n",
      "5452/5452 - 14s - loss: 0.4964 - acc: 0.8753 - val_loss: 1.6223 - val_acc: 0.6816\n",
      "Epoch 13/20\n",
      "5452/5452 - 14s - loss: 0.4470 - acc: 0.8843 - val_loss: 1.5361 - val_acc: 0.6959\n",
      "Epoch 14/20\n",
      "5452/5452 - 13s - loss: 0.4117 - acc: 0.8973 - val_loss: 1.5554 - val_acc: 0.6980\n",
      "Epoch 15/20\n",
      "5452/5452 - 13s - loss: 0.3706 - acc: 0.9087 - val_loss: 1.6410 - val_acc: 0.6755\n",
      "Epoch 16/20\n",
      "5452/5452 - 13s - loss: 0.3566 - acc: 0.9096 - val_loss: 1.6236 - val_acc: 0.7020\n",
      "Epoch 17/20\n",
      "5452/5452 - 14s - loss: 0.3056 - acc: 0.9259 - val_loss: 1.6112 - val_acc: 0.6878\n",
      "Epoch 18/20\n",
      "5452/5452 - 14s - loss: 0.2793 - acc: 0.9316 - val_loss: 1.5814 - val_acc: 0.7082\n",
      "Epoch 19/20\n",
      "5452/5452 - 13s - loss: 0.2560 - acc: 0.9340 - val_loss: 1.5714 - val_acc: 0.6816\n",
      "Epoch 20/20\n",
      "5452/5452 - 13s - loss: 0.2335 - acc: 0.9446 - val_loss: 1.5646 - val_acc: 0.7061\n"
     ]
    }
   ],
   "source": [
    "num_epochs = 20\n",
    "history1 = model1.fit((train_padded, training_category_seq), training_subcategory_seq, epochs = num_epochs, validation_data=((validation_padded[:-10], validation_category_seq[:-10]), validation_subcategory_seq[:-10]), verbose = 2)"
   ]
  },
  {
   "cell_type": "code",
   "execution_count": 20,
   "metadata": {},
   "outputs": [
    {
     "data": {
      "image/png": "[encoded data removed]",
      "text/plain": [
       "<Figure size 432x288 with 1 Axes>"
      ]
     },
     "metadata": {
      "needs_background": "light"
     },
     "output_type": "display_data"
    },
    {
     "data": {
      "image/png": "[encoded data removed]",
      "text/plain": [
       "<Figure size 432x288 with 1 Axes>"
      ]
     },
     "metadata": {
      "needs_background": "light"
     },
     "output_type": "display_data"
    }
   ],
   "source": [
    "import matplotlib.pyplot as plt\n",
    "\n",
    "def plot_graphs(history, string):\n",
    "  plt.plot(history.history[string])\n",
    "  plt.plot(history.history['val_'+string])\n",
    "  plt.xlabel(\"Epochs\")\n",
    "  plt.ylabel(string)\n",
    "  plt.legend([string, 'val_'+string])\n",
    "  plt.show()\n",
    "  \n",
    "plot_graphs(history1, \"acc\")\n",
    "plot_graphs(history1, \"loss\")"
   ]
  },
  {
   "cell_type": "code",
   "execution_count": 21,
   "metadata": {},
   "outputs": [
    {
     "name": "stdout",
     "output_type": "stream",
     "text": [
      "{'ind': 1, 'other': 2, 'def': 3, 'count': 4, 'desc': 5, 'manner': 6, 'date': 7, 'cremat': 8, 'reason': 9, 'gr': 10, 'country': 11, 'city': 12, 'animal': 13, 'food': 14, 'dismed': 15, 'termeq': 16, 'period': 17, 'money': 18, 'exp': 19, 'state': 20, 'sport': 21, 'event': 22, 'product': 23, 'substance': 24, 'color': 25, 'techmeth': 26, 'dist': 27, 'perc': 28, 'veh': 29, 'word': 30, 'title': 31, 'mount': 32, 'body': 33, 'abb': 34, 'lang': 35, 'plant': 36, 'volsize': 37, 'symbol': 38, 'weight': 39, 'instru': 40, 'letter': 41, 'speed': 42, 'code': 43, 'temp': 44, 'ord': 45, 'religion': 46, 'currency': 47}\n",
      "[3]\n",
      "def\n",
      "[3]\n",
      "def\n",
      "[26]\n",
      "techmeth\n",
      "[7]\n",
      "date\n",
      "[4]\n",
      "count\n",
      "[1]\n",
      "ind\n",
      "[15]\n",
      "dismed\n",
      "[4]\n",
      "count\n",
      "[2]\n",
      "other\n",
      "[3]\n",
      "def\n",
      "[[ 3]\n",
      " [ 3]\n",
      " [26]\n",
      " [ 7]\n",
      " [ 4]\n",
      " [ 1]\n",
      " [47]\n",
      " [ 4]\n",
      " [24]\n",
      " [ 3]]\n",
      "['what is pectin ', 'what is biodiversity ', 'what s the easiest way to remove wallpaper ', 'what year did the titanic start on its journey ', 'how much of an apple is water ', 'who was the 22nd president of the us ', 'what is the money they use in zambia ', 'how many feet in a mile ', 'what is the birthstone of october ', 'what is ecoli ']\n"
     ]
    }
   ],
   "source": [
    "print(subcategory_word_index)\n",
    "prediction = (model1.predict((validation_padded[-10:], validation_category_seq[:-10])))\n",
    "for i in prediction:\n",
    "    x = (np.where(i == np.amax(i)))[0]\n",
    "    print(x)\n",
    "    for a in subcategory_word_index:\n",
    "        if subcategory_word_index[a] == x:\n",
    "            print(a)\n",
    "    \n",
    "print(validation_subcategory_seq[-10:])\n",
    "print(validation_questions[-10:])"
   ]
  },
  {
   "cell_type": "code",
   "execution_count": null,
   "metadata": {},
   "outputs": [],
   "source": []
  }
 ],
 "metadata": {
  "kernelspec": {
   "display_name": "Python 3",
   "language": "python",
   "name": "python3"
  },
  "language_info": {
   "codemirror_mode": {
    "name": "ipython",
    "version": 3
   },
   "file_extension": ".py",
   "mimetype": "text/x-python",
   "name": "python",
   "nbconvert_exporter": "python",
   "pygments_lexer": "ipython3",
   "version": "3.7.7"
  }
 },
 "nbformat": 4,
 "nbformat_minor": 4
}
