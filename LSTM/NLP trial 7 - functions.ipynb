{
 "cells": [
  {
   "cell_type": "code",
   "execution_count": 1,
   "metadata": {},
   "outputs": [],
   "source": [
    "import tensorflow as tf\n",
    "from tensorflow import keras\n",
    "import pandas as pd\n",
    "import numpy as np\n",
    "from tensorflow.keras.preprocessing.text import Tokenizer\n",
    "from tensorflow.keras.preprocessing.sequence import pad_sequences\n",
    "import matplotlib.pyplot as plt"
   ]
  },
  {
   "cell_type": "code",
   "execution_count": 2,
   "metadata": {},
   "outputs": [],
   "source": [
    "def plot_graphs(history, string):\n",
    "      plt.plot(history.history[string])\n",
    "      plt.plot(history.history['val_'+string])\n",
    "      plt.xlabel(\"Epochs\")\n",
    "      plt.ylabel(string)\n",
    "      plt.legend([string, 'val_'+string])\n",
    "      plt.show()"
   ]
  },
  {
   "cell_type": "code",
   "execution_count": 3,
   "metadata": {},
   "outputs": [],
   "source": [
    "def get_data(filename):\n",
    "    category=[]\n",
    "    subcategory=[]\n",
    "    questions=[]\n",
    "    with open(filename, 'r') as f:\n",
    "        for line in f:\n",
    "            split_index1 = line.index(\":\")\n",
    "            split_index2 = line.index(\" \")\n",
    "            category.append(line[:split_index1])\n",
    "            subcategory.append(line[split_index1+1:split_index2])\n",
    "            questions.append(line[(split_index2+1):])\n",
    "    return category, subcategory, questions"
   ]
  },
  {
   "cell_type": "code",
   "execution_count": 4,
   "metadata": {},
   "outputs": [],
   "source": [
    "def clean_data(questions):\n",
    "    stopwords = [ \"a\", \"about\", \"above\", \"after\", \"again\", \"against\", \"all\", \"am\", \"an\", \"and\", \"any\", \"are\", \"as\", \"at\", \"be\", \"because\", \"been\", \"before\", \"being\", \"below\", \"between\", \"both\", \"but\", \"by\", \"could\", \"did\", \"do\", \"does\", \"doing\", \"down\", \"during\", \"each\", \"few\", \"for\", \"from\", \"further\", \"had\", \"has\", \"have\", \"having\", \"he\", \"he'd\", \"he'll\", \"he's\", \"her\", \"here\", \"here's\", \"hers\", \"herself\", \"him\", \"himself\", \"his\", \"i\", \"i'd\", \"i'll\", \"i'm\", \"i've\", \"if\", \"in\", \"into\", \"is\", \"it\", \"it's\", \"its\", \"itself\", \"let's\", \"me\", \"more\", \"most\", \"my\", \"myself\", \"nor\", \"of\", \"on\", \"once\", \"only\", \"or\", \"other\", \"ought\", \"our\", \"ours\", \"ourselves\", \"out\", \"over\", \"own\", \"same\", \"she\", \"she'd\", \"she'll\", \"she's\", \"should\", \"so\", \"some\", \"such\", \"than\", \"that\", \"that's\", \"the\", \"their\", \"theirs\", \"them\", \"themselves\", \"then\", \"there\", \"there's\", \"these\", \"they\", \"they'd\", \"they'll\", \"they're\", \"they've\", \"this\", \"those\", \"through\", \"to\", \"too\", \"under\", \"until\", \"up\", \"very\", \"was\", \"we\", \"we'd\", \"we'll\", \"we're\", \"we've\", \"were\", \"while\", \"with\", \"you\", \"you'd\", \"you'll\", \"you're\", \"you've\", \"your\", \"yours\", \"yourself\", \"yourselves\"]\n",
    "    punctuations = '''!()-[]{};:'\"`\\,<>./?@#$%^&*_~\\n'''\n",
    "    \n",
    "    for i in range(0,len(questions)):\n",
    "        question = questions[i].lower()\n",
    "#         for word in stopwords:\n",
    "#             token = \" \" + word + \" \"\n",
    "#             question = question.replace(token, \" \")\n",
    "        no_punct = ''\n",
    "        for char in question:\n",
    "            if char not in punctuations:\n",
    "                no_punct = no_punct + char\n",
    "        no_punct = no_punct.replace(\"  \", \" \")\n",
    "        questions[i] = no_punct"
   ]
  },
  {
   "cell_type": "code",
   "execution_count": 5,
   "metadata": {},
   "outputs": [],
   "source": [
    "def category_predict(ques):\n",
    "    vocab_size = 7000\n",
    "    embedding_dim = 256\n",
    "    max_length = 15\n",
    "    trunc_type='post'\n",
    "    padding_type='post'\n",
    "    oov_tok = \"<OOV>\"\n",
    "    \n",
    "#     train_category = []\n",
    "#     train_subcategory = []\n",
    "#     train_questions = []\n",
    "    \n",
    "    train_category, train_subcategory, train_questions = get_data('train_5500.label')\n",
    "    clean_data(train_questions)\n",
    "    \n",
    "#     test_category = []\n",
    "#     test_subcategory = []\n",
    "#     test_questions = []\n",
    "\n",
    "    test_category, test_subcategory, test_questions = get_data('TREC_10.label')\n",
    "    clean_data(test_questions)\n",
    "\n",
    "    clean_data(ques)\n",
    "#     print(ques)\n",
    "    \n",
    "    tokenizer = Tokenizer(num_words = vocab_size, oov_token = oov_tok)\n",
    "    tokenizer.fit_on_texts(train_questions)\n",
    "    word_index = tokenizer.word_index\n",
    "#     print(word_index)\n",
    "\n",
    "    train_sequences = tokenizer.texts_to_sequences(train_questions)\n",
    "    train_padded = pad_sequences(train_sequences, padding=padding_type, maxlen=max_length, truncating=trunc_type)\n",
    "    \n",
    "    test_sequences = tokenizer.texts_to_sequences(test_questions)\n",
    "    test_padded = pad_sequences(test_sequences, padding=padding_type, maxlen=max_length, truncating=trunc_type)\n",
    "#     print(test_sequences)\n",
    "    \n",
    "    ques_sequences = tokenizer.texts_to_sequences(ques)\n",
    "    ques_padded = pad_sequences(ques_sequences, padding=padding_type, maxlen=max_length, truncating=trunc_type)\n",
    "    \n",
    "    category_tokenizer = Tokenizer()\n",
    "    category_tokenizer.fit_on_texts(train_category)\n",
    "    category_word_index = category_tokenizer.word_index\n",
    "\n",
    "    train_category_seq = pad_sequences(np.array(category_tokenizer.texts_to_sequences(train_category)), maxlen=1)\n",
    "    test_category_seq = pad_sequences(np.array(category_tokenizer.texts_to_sequences(test_category)), maxlen=1)\n",
    "    \n",
    "    model = keras.Sequential([\n",
    "        keras.layers.Embedding(vocab_size, embedding_dim, input_length = max_length),\n",
    "        keras.layers.Dropout(0.2),\n",
    "        keras.layers.Bidirectional(keras.layers.GRU(64, return_sequences=True)),\n",
    "        keras.layers.Bidirectional(keras.layers.LSTM(32)),\n",
    "#         keras.layers.Dense(64, activation = 'relu'),\n",
    "        keras.layers.Dense(32, activation = 'sigmoid'),\n",
    "        keras.layers.Dense(7, activation = 'softmax')])\n",
    "\n",
    "    model.compile(loss = 'sparse_categorical_crossentropy', optimizer = keras.optimizers.Adam(lr=0.002), metrics=['acc'])\n",
    "    #model.summary()\n",
    "    \n",
    "    num_epochs = 10\n",
    "    history = model.fit(train_padded, train_category_seq, epochs = num_epochs, validation_data=(test_padded, test_category_seq), verbose = 2)\n",
    "\n",
    "    plot_graphs(history, \"acc\")\n",
    "    plot_graphs(history, \"loss\")\n",
    "    \n",
    "    prediction = model.predict(ques_padded)\n",
    "    print(ques)\n",
    "    category_predicted=[]\n",
    "    for i in prediction:\n",
    "#     x = i.find(max(i))\n",
    "        x = (np.where(i == np.amax(i)))[0]\n",
    "    #     print(x)\n",
    "        for a in category_word_index:\n",
    "            if category_word_index[a] == x:\n",
    "                print(a)\n",
    "                category_predicted.append(x)\n",
    "                \n",
    "                \n",
    "    subcategory_tokenizer = Tokenizer()\n",
    "    subcategory_tokenizer.fit_on_texts(train_subcategory)\n",
    "    subcategory_word_index = subcategory_tokenizer.word_index\n",
    "#     print(subcategory_word_index)\n",
    "\n",
    "    train_subcategory_seq = pad_sequences(np.array(subcategory_tokenizer.texts_to_sequences(train_subcategory)), maxlen=1)\n",
    "    test_subcategory_seq = pad_sequences(np.array(subcategory_tokenizer.texts_to_sequences(test_subcategory)), maxlen=1)\n",
    "    \n",
    "    model1 = keras.Sequential([\n",
    "        keras.layers.Embedding(vocab_size, embedding_dim, input_length = max_length),\n",
    "        keras.layers.Dropout(0.2),\n",
    "        keras.layers.Bidirectional(keras.layers.GRU(96, return_sequences=True)),\n",
    "        keras.layers.Bidirectional(keras.layers.LSTM(64)),\n",
    "    #     tf.keras.layers.Dropout(0.2),\n",
    "    #     tf.keras.layers.GlobalAveragePooling1D(),\n",
    "    #     tf.keras.layers.Dense(120, activation = 'relu'),\n",
    "        keras.layers.Dense(64, activation = 'sigmoid'),\n",
    "        keras.layers.Dense(48, activation = 'softmax')\n",
    "    ])\n",
    "\n",
    "    model1.compile(loss = 'sparse_categorical_crossentropy', optimizer = keras.optimizers.Adam(lr=0.002), metrics=['acc'])\n",
    "#     model1.summary()\n",
    "\n",
    "    num_epochs = 20\n",
    "    history1 = model1.fit((train_padded, train_category_seq), train_subcategory_seq, epochs = num_epochs, validation_data=((test_padded, test_category_seq), test_subcategory_seq), verbose = 2)\n",
    "  \n",
    "    plot_graphs(history1, \"acc\")\n",
    "    plot_graphs(history1, \"loss\")\n",
    "    \n",
    "    sub_prediction = model1.predict((ques_padded, category_predicted))\n",
    "    print(subcategory_word_index)\n",
    "    for i in sub_prediction:\n",
    "        x = (np.where(i == np.amax(i)))[0]\n",
    "        print(x)\n",
    "        for a in subcategory_word_index:\n",
    "            if subcategory_word_index[a] == x:\n",
    "                print(a)\n",
    "\n",
    "#     print(validation_subcategory_seq[-10:])\n",
    "#     print(validation_questions[-10:])"
   ]
  },
  {
   "cell_type": "code",
   "execution_count": 6,
   "metadata": {
    "scrolled": false
   },
   "outputs": [
    {
     "name": "stdout",
     "output_type": "stream",
     "text": [
      "Train on 5452 samples, validate on 500 samples\n",
      "Epoch 1/10\n",
      "5452/5452 - 52s - loss: 1.2082 - acc: 0.5429 - val_loss: 0.6231 - val_acc: 0.8160\n",
      "Epoch 2/10\n",
      "5452/5452 - 16s - loss: 0.4946 - acc: 0.8586 - val_loss: 0.4609 - val_acc: 0.8480\n",
      "Epoch 3/10\n",
      "5452/5452 - 15s - loss: 0.2514 - acc: 0.9351 - val_loss: 0.5431 - val_acc: 0.8480\n",
      "Epoch 4/10\n",
      "5452/5452 - 16s - loss: 0.1403 - acc: 0.9674 - val_loss: 0.4774 - val_acc: 0.8740\n",
      "Epoch 5/10\n",
      "5452/5452 - 16s - loss: 0.0947 - acc: 0.9773 - val_loss: 0.5934 - val_acc: 0.8600\n",
      "Epoch 6/10\n",
      "5452/5452 - 16s - loss: 0.0600 - acc: 0.9883 - val_loss: 0.5164 - val_acc: 0.8720\n",
      "Epoch 7/10\n",
      "5452/5452 - 15s - loss: 0.0428 - acc: 0.9906 - val_loss: 0.5576 - val_acc: 0.8680\n",
      "Epoch 8/10\n",
      "5452/5452 - 16s - loss: 0.0306 - acc: 0.9936 - val_loss: 0.5720 - val_acc: 0.8620\n",
      "Epoch 9/10\n",
      "5452/5452 - 16s - loss: 0.0218 - acc: 0.9954 - val_loss: 0.6246 - val_acc: 0.8640\n",
      "Epoch 10/10\n",
      "5452/5452 - 16s - loss: 0.0248 - acc: 0.9939 - val_loss: 0.5736 - val_acc: 0.8780\n"
     ]
    },
    {
     "data": {
      "image/png": "[encoded data removed]",
      "text/plain": [
       "<Figure size 432x288 with 1 Axes>"
      ]
     },
     "metadata": {
      "needs_background": "light"
     },
     "output_type": "display_data"
    },
    {
     "data": {
      "image/png": "[encoded data removed]",
      "text/plain": [
       "<Figure size 432x288 with 1 Axes>"
      ]
     },
     "metadata": {
      "needs_background": "light"
     },
     "output_type": "display_data"
    },
    {
     "name": "stdout",
     "output_type": "stream",
     "text": [
      "['who was bill gates ', 'where is london located ', 'what is schrodinger s cat ', 'can earth be a planet ', 'how long does it take to dance ']\n",
      "hum\n",
      "loc\n",
      "desc\n",
      "desc\n",
      "num\n",
      "Train on 5452 samples, validate on 500 samples\n",
      "Epoch 1/20\n",
      "5452/5452 - 43s - loss: 2.6971 - acc: 0.3144 - val_loss: 2.1162 - val_acc: 0.5520\n",
      "Epoch 2/20\n",
      "5452/5452 - 21s - loss: 1.7662 - acc: 0.5614 - val_loss: 1.6945 - val_acc: 0.5960\n",
      "Epoch 3/20\n",
      "5452/5452 - 21s - loss: 1.1826 - acc: 0.7082 - val_loss: 1.5127 - val_acc: 0.6400\n",
      "Epoch 4/20\n",
      "5452/5452 - 21s - loss: 0.7813 - acc: 0.8226 - val_loss: 1.4218 - val_acc: 0.6940\n",
      "Epoch 5/20\n",
      "5452/5452 - 22s - loss: 0.5597 - acc: 0.8646 - val_loss: 1.3815 - val_acc: 0.7180\n",
      "Epoch 6/20\n",
      "5452/5452 - 20s - loss: 0.4072 - acc: 0.9057 - val_loss: 1.3338 - val_acc: 0.7260\n",
      "Epoch 7/20\n",
      "5452/5452 - 20s - loss: 0.3015 - acc: 0.9288 - val_loss: 1.3292 - val_acc: 0.7320\n",
      "Epoch 8/20\n",
      "5452/5452 - 20s - loss: 0.2290 - acc: 0.9485 - val_loss: 1.3656 - val_acc: 0.7540\n",
      "Epoch 9/20\n",
      "5452/5452 - 20s - loss: 0.1635 - acc: 0.9681 - val_loss: 1.3598 - val_acc: 0.7300\n",
      "Epoch 10/20\n",
      "5452/5452 - 21s - loss: 0.1247 - acc: 0.9773 - val_loss: 1.3429 - val_acc: 0.7400\n",
      "Epoch 11/20\n",
      "5452/5452 - 19s - loss: 0.0901 - acc: 0.9855 - val_loss: 1.3257 - val_acc: 0.7560\n",
      "Epoch 12/20\n",
      "5452/5452 - 20s - loss: 0.0768 - acc: 0.9888 - val_loss: 1.3787 - val_acc: 0.7300\n",
      "Epoch 13/20\n",
      "5452/5452 - 19s - loss: 0.0600 - acc: 0.9901 - val_loss: 1.3494 - val_acc: 0.7480\n",
      "Epoch 14/20\n",
      "5452/5452 - 20s - loss: 0.0474 - acc: 0.9928 - val_loss: 1.4754 - val_acc: 0.7020\n",
      "Epoch 15/20\n",
      "5452/5452 - 20s - loss: 0.0390 - acc: 0.9945 - val_loss: 1.4726 - val_acc: 0.7560\n",
      "Epoch 16/20\n",
      "5452/5452 - 20s - loss: 0.0338 - acc: 0.9938 - val_loss: 1.5067 - val_acc: 0.7540\n",
      "Epoch 17/20\n",
      "5452/5452 - 19s - loss: 0.0288 - acc: 0.9958 - val_loss: 1.4367 - val_acc: 0.7600\n",
      "Epoch 18/20\n",
      "5452/5452 - 19s - loss: 0.0256 - acc: 0.9960 - val_loss: 1.4903 - val_acc: 0.7600\n",
      "Epoch 19/20\n",
      "5452/5452 - 20s - loss: 0.0205 - acc: 0.9965 - val_loss: 1.4988 - val_acc: 0.7440\n",
      "Epoch 20/20\n",
      "5452/5452 - 20s - loss: 0.0224 - acc: 0.9960 - val_loss: 1.5607 - val_acc: 0.7560\n"
     ]
    },
    {
     "data": {
      "image/png": "[encoded data removed]",
      "text/plain": [
       "<Figure size 432x288 with 1 Axes>"
      ]
     },
     "metadata": {
      "needs_background": "light"
     },
     "output_type": "display_data"
    },
    {
     "data": {
      "image/png": "[encoded data removed]",
      "text/plain": [
       "<Figure size 432x288 with 1 Axes>"
      ]
     },
     "metadata": {
      "needs_background": "light"
     },
     "output_type": "display_data"
    },
    {
     "name": "stdout",
     "output_type": "stream",
     "text": [
      "{'ind': 1, 'other': 2, 'def': 3, 'count': 4, 'desc': 5, 'manner': 6, 'date': 7, 'cremat': 8, 'reason': 9, 'gr': 10, 'country': 11, 'city': 12, 'animal': 13, 'food': 14, 'dismed': 15, 'termeq': 16, 'period': 17, 'money': 18, 'exp': 19, 'state': 20, 'sport': 21, 'event': 22, 'product': 23, 'substance': 24, 'color': 25, 'techmeth': 26, 'dist': 27, 'perc': 28, 'veh': 29, 'word': 30, 'title': 31, 'mount': 32, 'body': 33, 'abb': 34, 'lang': 35, 'plant': 36, 'volsize': 37, 'symbol': 38, 'weight': 39, 'instru': 40, 'letter': 41, 'speed': 42, 'code': 43, 'temp': 44, 'ord': 45, 'religion': 46, 'currency': 47}\n",
      "[5]\n",
      "desc\n",
      "[2]\n",
      "other\n",
      "[3]\n",
      "def\n",
      "[3]\n",
      "def\n",
      "[17]\n",
      "period\n"
     ]
    }
   ],
   "source": [
    "category_predict([\"Who was Bill Gates ?\", \"Where is London located ?\", \"What is Schrodinger 's cat ?\", \"Can earth be a planet ?\", \"How long does it take to dance ?\"])"
   ]
  },
  {
   "cell_type": "code",
   "execution_count": null,
   "metadata": {},
   "outputs": [
    {
     "name": "stdout",
     "output_type": "stream",
     "text": [
      "Train on 5452 samples, validate on 500 samples\n",
      "Epoch 1/10\n",
      "5452/5452 - 43s - loss: 1.0898 - acc: 0.6088 - val_loss: 0.6283 - val_acc: 0.8140\n",
      "Epoch 2/10\n",
      "5452/5452 - 15s - loss: 0.3662 - acc: 0.8971 - val_loss: 0.4771 - val_acc: 0.8480\n",
      "Epoch 3/10\n",
      "5452/5452 - 16s - loss: 0.1760 - acc: 0.9551 - val_loss: 0.4579 - val_acc: 0.8640\n",
      "Epoch 4/10\n",
      "5452/5452 - 16s - loss: 0.1060 - acc: 0.9747 - val_loss: 0.5177 - val_acc: 0.8580\n",
      "Epoch 5/10\n",
      "5452/5452 - 16s - loss: 0.0551 - acc: 0.9884 - val_loss: 0.5056 - val_acc: 0.8820\n",
      "Epoch 6/10\n",
      "5452/5452 - 16s - loss: 0.0384 - acc: 0.9927 - val_loss: 0.5834 - val_acc: 0.8720\n",
      "Epoch 7/10\n",
      "5452/5452 - 17s - loss: 0.0287 - acc: 0.9938 - val_loss: 0.5723 - val_acc: 0.8800\n",
      "Epoch 8/10\n"
     ]
    }
   ],
   "source": [
    "category_predict([\"Who was Bill Gates ?\", \"Where is Mumbai located ?\", \"What is Schrodinger 's cat ?\", \"Can earth be a planet ?\", \"How long does it take to dance ?\"])"
   ]
  },
  {
   "cell_type": "code",
   "execution_count": null,
   "metadata": {},
   "outputs": [],
   "source": []
  },
  {
   "cell_type": "code",
   "execution_count": 19,
   "metadata": {},
   "outputs": [
    {
     "data": {
      "text/plain": [
       "138"
      ]
     },
     "execution_count": 19,
     "metadata": {},
     "output_type": "execute_result"
    }
   ],
   "source": [
    "stopwords = [ \"a\", \"about\", \"above\", \"after\", \"again\", \"against\", \"all\", \"am\", \"an\", \"and\", \"any\", \"are\", \"as\", \"at\", \"be\", \"because\", \"been\", \"before\", \"being\", \"below\", \"between\", \"both\", \"but\", \"by\", \"could\", \"did\", \"do\", \"does\", \"doing\", \"down\", \"during\", \"each\", \"few\", \"for\", \"from\", \"further\", \"had\", \"has\", \"have\", \"having\", \"he\", \"he'd\", \"he'll\", \"he's\", \"her\", \"here\", \"here's\", \"hers\", \"herself\", \"him\", \"himself\", \"his\", \"i\", \"i'd\", \"i'll\", \"i'm\", \"i've\", \"if\", \"in\", \"into\", \"is\", \"it\", \"it's\", \"its\", \"itself\", \"let's\", \"me\", \"more\", \"most\", \"my\", \"myself\", \"nor\", \"of\", \"on\", \"once\", \"only\", \"or\", \"other\", \"ought\", \"our\", \"ours\", \"ourselves\", \"out\", \"over\", \"own\", \"same\", \"she\", \"she'd\", \"she'll\", \"she's\", \"should\", \"so\", \"some\", \"such\", \"than\", \"that\", \"that's\", \"the\", \"their\", \"theirs\", \"them\", \"themselves\", \"then\", \"there\", \"there's\", \"these\", \"they\", \"they'd\", \"they'll\", \"they're\", \"they've\", \"this\", \"those\", \"through\", \"to\", \"too\", \"under\", \"until\", \"up\", \"very\", \"was\", \"we\", \"we'd\", \"we'll\", \"we're\", \"we've\", \"were\", \"while\", \"with\", \"you\", \"you'd\", \"you'll\", \"you're\", \"you've\", \"your\", \"yours\", \"yourself\", \"yourselves\"]\n",
    "len(stopwords)"
   ]
  },
  {
   "cell_type": "code",
   "execution_count": null,
   "metadata": {},
   "outputs": [],
   "source": []
  }
 ],
 "metadata": {
  "kernelspec": {
   "display_name": "Python 3",
   "language": "python",
   "name": "python3"
  },
  "language_info": {
   "codemirror_mode": {
    "name": "ipython",
    "version": 3
   },
   "file_extension": ".py",
   "mimetype": "text/x-python",
   "name": "python",
   "nbconvert_exporter": "python",
   "pygments_lexer": "ipython3",
   "version": "3.7.7"
  }
 },
 "nbformat": 4,
 "nbformat_minor": 4
}
